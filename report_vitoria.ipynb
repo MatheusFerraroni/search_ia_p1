{
 "cells": [
  {
   "cell_type": "markdown",
   "metadata": {},
   "source": [
    "Two types of maps are used: with points and no points. On maps with points, 'P' represents scoring locations. The symbol \"#\" represents the barrier, i.e., a blocked space. Empty spaces are free to move, and the \"S\" is the start point. Also, \"G\" represents the goal, and \"$\" is the passed locations. Then, the first map with points is as follows:"
   ]
  },
  {
   "cell_type": "code",
   "execution_count": 4,
   "metadata": {},
   "outputs": [],
   "source": [
    "###########\n",
    "#      PPP#\n",
    "# ### ###P#\n",
    "# #     #P#\n",
    "# #P###P#P#\n",
    "#P#  G  # #\n",
    "#P####### #\n",
    "#    S    #\n",
    "###########"
   ]
  },
  {
   "cell_type": "markdown",
   "metadata": {},
   "source": [
    "Each map is in a text file. Then, the map class read these maps through the init function, which calls the validation. The script below exhibit this:"
   ]
  },
  {
   "cell_type": "code",
   "execution_count": null,
   "metadata": {},
   "outputs": [],
   "source": [
    "def __init__(self, map_text=None):\n",
    "        self.map = None\n",
    "        self.start = None\n",
    "        self.goal = None\n",
    "        self.pos = None\n",
    "        self.points_pos = []\n",
    "        self.points = 0\n",
    "        self.cost_till_here = 0\n",
    "        self.hashed = None\n",
    "\n",
    "        if map_text!=None:\n",
    "            self.validateMap(map_text)"
   ]
  },
  {
   "cell_type": "markdown",
   "metadata": {},
   "source": [
    "The validate function verifies if the size of all lines and columns have the same size. Then, it saves the Goal and Point position in the map, and express these locations by 3 and 1, respectively. It sets up \"0\" value where there is a barrier, and \"1\" value where there is a space. Besides that, the start point (S) is described as \"2\". The script below exhibit this:"
   ]
  },
  {
   "cell_type": "code",
   "execution_count": null,
   "metadata": {},
   "outputs": [],
   "source": [
    "def validateMap(self, m):\n",
    "        m = m.split(\"\\n\")\n",
    "\n",
    "        for i in range(1,len(m),1):\n",
    "            if len(m[i])!=len(m[0]):\n",
    "                raise Exception(\"Map lines have different sizes.\")\n",
    "\n",
    "        i = 0\n",
    "        j = 0\n",
    "\n",
    "        self.map = []\n",
    "        for line in m:\n",
    "            j=0\n",
    "            self.map.append([])\n",
    "            for c in line:\n",
    "                if ((i==0 or i==len(m)-1) and c!=\"#\") or ((j==0 or j==len(m[i])-1) and c!=\"#\"):\n",
    "                    raise Exception(\"Maze borders must be '#'.\")\n",
    "                if c == \"#\":\n",
    "                    self.map[i].append(0)\n",
    "                elif c == \" \":\n",
    "                    self.map[i].append(1)\n",
    "                elif c.upper() == \"S\":\n",
    "                    if self.start!=None:\n",
    "                        raise Exception(\"Only one Start is allowed.\")\n",
    "                    self.map[i].append(2)\n",
    "                    self.start = [j,i]\n",
    "                    self.pos = [j,i]\n",
    "                elif c.upper() == \"G\":\n",
    "                    if self.goal!=None:\n",
    "                        raise Exception(\"Only one Goal is allowed.\")\n",
    "                    self.map[i].append(3)\n",
    "                    self.goal = [j,i]\n",
    "                elif c.upper() == \"P\":\n",
    "                    self.map[i].append(1)\n",
    "                    self.points_pos.append([j,i])\n",
    "                else:\n",
    "                    raise Exception(\"Invalid map char: \"+c)\n",
    "\n",
    "                j += 1\n",
    "            i += 1\n",
    "\n",
    "        if self.start==None or self.goal==None:\n",
    "            raise Exception(\"Start and Goal must be provided\")"
   ]
  },
  {
   "cell_type": "markdown",
   "metadata": {},
   "source": [
    "Then, all positions on the map are shown as integers, as shown below:"
   ]
  },
  {
   "cell_type": "code",
   "execution_count": null,
   "metadata": {},
   "outputs": [],
   "source": [
    "00000000000\n",
    "01111111110\n",
    "01000100010\n",
    "01011111010\n",
    "01010001010\n",
    "01011311010\n",
    "01000000010\n",
    "01111211110\n",
    "00000000000"
   ]
  },
  {
   "cell_type": "markdown",
   "metadata": {},
   "source": []
  },
  {
   "cell_type": "code",
   "execution_count": null,
   "metadata": {},
   "outputs": [],
   "source": [
    "def printVisual(self):\n",
    "        for i in range(len(self.map)):\n",
    "            for j in range(len(self.map[i])):\n",
    "                c = None\n",
    "                if self.map[i][j]==0:\n",
    "                    c = \"#\"\n",
    "                elif self.map[i][j]==1:\n",
    "                    c = \" \"\n",
    "                elif self.map[i][j]==2:\n",
    "                    c = \"S\"\n",
    "                elif self.map[i][j]==3:\n",
    "                    c = \"G\"\n",
    "                elif self.map[i][j]==4:\n",
    "                    c = \"$\"\n",
    "\n",
    "                for p in self.getPointsLeft():\n",
    "                    if j==p[0] and i==p[1]:\n",
    "                        c = \"P\"\n",
    "\n",
    "                if i==self.pos[1] and j==self.pos[0]:\n",
    "                    if self.pos!=self.start:\n",
    "                        c = \"X\"\n",
    "                print(c,end=\"\")\n",
    "            print(\"\")"
   ]
  },
  {
   "cell_type": "markdown",
   "metadata": {},
   "source": [
    "In the code below, it was verified the options of actions, depending on the self-position. If on the left / right / up / down there is no barrier and it was not a covered space, then it can be considered as a movement option."
   ]
  },
  {
   "cell_type": "code",
   "execution_count": null,
   "metadata": {},
   "outputs": [],
   "source": [
    "def getActions(self):\n",
    "        ret1 = []\n",
    "        ret2 = []        \n",
    "        \n",
    "        # LEFT\n",
    "        val = self.map[self.pos[1]][self.pos[0]-1]\n",
    "        if val!=0 and val!=4:\n",
    "            ret1.append(\"E\")\n",
    "            ret2.append(1)\n",
    "        \n",
    "        # RIGHT\n",
    "        val = self.map[self.pos[1]][self.pos[0]+1]\n",
    "        if val!=0 and val!=4:\n",
    "            ret1.append(\"D\")\n",
    "            ret2.append(2)\n",
    "        # UP\n",
    "        val = self.map[self.pos[1]+1][self.pos[0]]\n",
    "        if val!=0 and val!=4:\n",
    "            ret1.append(\"B\")\n",
    "            ret2.append(3)\n",
    "\n",
    "        # DOWN\n",
    "        val = self.map[self.pos[1]-1][self.pos[0]]\n",
    "        if val!=0 and val!=4:\n",
    "            ret1.append(\"C\")\n",
    "            ret2.append(4)\n",
    "\n",
    "        return ret1, ret2\n"
   ]
  }
 ],
 "metadata": {
  "kernelspec": {
   "display_name": "Python 3",
   "language": "python",
   "name": "python3"
  },
  "language_info": {
   "codemirror_mode": {
    "name": "ipython",
    "version": 3
   },
   "file_extension": ".py",
   "mimetype": "text/x-python",
   "name": "python",
   "nbconvert_exporter": "python",
   "pygments_lexer": "ipython3",
   "version": "3.8.2"
  }
 },
 "nbformat": 4,
 "nbformat_minor": 2
}

{
 "cells": [
  {
   "cell_type": "markdown",
   "metadata": {},
   "source": [
    "# Hola"
   ]
  },
  {
   "cell_type": "markdown",
   "metadata": {},
   "source": [
    "- Introducción: Descrever por encima o projeto\n",
    "- Modelagem do problema\n",
    "    - \n",
    "- Descrever o map.py (Que é #, espaço etc) Imagen dos mapas. (Mapas com pontos e sem)\n",
    "- O como funçõa cada estrategia (Copiar e colar función codigo) (BFS, DFS, A*1, A*2, LBS, HILL). \n",
    "    - Descrever por cima. \n",
    "    - Limitaçoes da estrategia\n",
    "- How to execute?\n",
    "- Resultados \n",
    "- Conclución\n"
   ]
  },
  {
   "cell_type": "markdown",
   "metadata": {},
   "source": [
    "# Astar Estrategy (A*)"
   ]
  },
  {
   "cell_type": "markdown",
   "metadata": {},
   "source": [
    "The astar strategy tries to expand the **node**, which is closest to the goal, and also it considers the cost to reach that **node**.\n",
    "\n",
    "Thus, the evaluation of the nodes is done using the function:\n",
    "\n",
    "f(n) = g(n) + h(n)\n",
    "    - g(n): cost to reach each node\n",
    "    - h(n): cost to get from the node to the goal\n",
    "    \n",
    "In this project, the g(n) is equal to the path cost."
   ]
  },
  {
   "cell_type": "markdown",
   "metadata": {},
   "source": [
    " The path cost of this solution increse in 1 when the state change by an action. \n",
    " \n",
    " Thus, the costs is uniform for every step in the path, since all step have the same value (step value = 1)."
   ]
  },
  {
   "cell_type": "code",
   "execution_count": null,
   "metadata": {},
   "outputs": [],
   "source": [
    "   def path_cost(self, c, state1, action, state2):\n",
    "        return c + 1"
   ]
  },
  {
   "cell_type": "markdown",
   "metadata": {},
   "source": [
    "This solution employs the best first graph search or greedy search, thus the node expansions are giving by lowest scores first policy.\n",
    "\n",
    "This policy sort the nodes employ a mechanism that minimizes the function f(n).\n",
    "For example, the breadth-first search occurs when f(n)=node.depth. \n",
    "\n",
    "Moreover, the function f(n) \"memorize\" the nodes previously computed, in order to examine the f values to recover path. \n"
   ]
  },
  {
   "cell_type": "markdown",
   "metadata": {},
   "source": [
    "The followig code show the implementation of the best first graph search:"
   ]
  },
  {
   "cell_type": "code",
   "execution_count": 8,
   "metadata": {},
   "outputs": [],
   "source": [
    "def best_first_graph_search(problem, f, display=False):\n",
    "    # Nodes in cache\n",
    "    f = memoize(f, 'f') \n",
    "    node = Node(problem.initial)\n",
    "    # Priority queue giving by the lowest score in f(n)=g(n)+h(n)\n",
    "    frontier = PriorityQueue('min', f)\n",
    "    # Initial node\n",
    "    frontier.append(node)\n",
    "    explored = set()\n",
    "    # While node goal different goal state\n",
    "    while frontier:\n",
    "        node = frontier.pop()\n",
    "        # If node goal equal node state, return node\n",
    "        if problem.goal_test(node.state):\n",
    "            if display:\n",
    "                print(len(explored), \"paths have been expanded and\", len(frontier), \"paths remain in the frontier\")\n",
    "            return node\n",
    "        # else, explore\n",
    "        explored.add(node.state)\n",
    "        for child in node.expand(problem):\n",
    "            if child.state not in explored and child not in frontier:\n",
    "                frontier.append(child)\n",
    "            elif child in frontier:\n",
    "                if f(child) < frontier[child]:\n",
    "                    del frontier[child]\n",
    "                    frontier.append(child)\n",
    "    return None\n",
    "\n",
    "def Astar(problem, display=False):\n",
    "    h = None\n",
    "    h = memoize(h or problem.h, 'h')\n",
    "    return best_first_graph_search(problem, lambda n: n.path_cost + h(n), display)\n",
    "   "
   ]
  },
  {
   "cell_type": "markdown",
   "metadata": {},
   "source": [
    "Also, . Thus, the node evaluation is giving by a heuristic h(n), which assumes that the node closest to the goal is the faster solution. "
   ]
  },
  {
   "cell_type": "markdown",
   "metadata": {},
   "source": [
    "## Astar One (A*1)"
   ]
  }
 ],
 "metadata": {
  "kernelspec": {
   "display_name": "Python 3",
   "language": "python",
   "name": "python3"
  },
  "language_info": {
   "codemirror_mode": {
    "name": "ipython",
    "version": 3
   },
   "file_extension": ".py",
   "mimetype": "text/x-python",
   "name": "python",
   "nbconvert_exporter": "python",
   "pygments_lexer": "ipython3",
   "version": "3.8.2"
  }
 },
 "nbformat": 4,
 "nbformat_minor": 4
}

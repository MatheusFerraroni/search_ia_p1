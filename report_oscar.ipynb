{
 "cells": [
  {
   "cell_type": "markdown",
   "metadata": {},
   "source": [
    "# Hola"
   ]
  },
  {
   "cell_type": "markdown",
   "metadata": {},
   "source": [
    "- Introducción: Descrever por encima o projeto\n",
    "- Modelagem do problema\n",
    "    - \n",
    "- Descrever o map.py (Que é #, espaço etc) Imagen dos mapas. (Mapas com pontos e sem)\n",
    "- O como funçõa cada estrategia (Copiar e colar función codigo) (BFS, DFS, A*1, A*2, LBS, HILL). \n",
    "    - Descrever por cima. \n",
    "    - Limitaçoes da estrategia\n",
    "- How to execute?\n",
    "- Resultados \n",
    "- Conclución\n"
   ]
  },
  {
   "cell_type": "markdown",
   "metadata": {},
   "source": [
    "# Astar Estrategy (A*)"
   ]
  },
  {
   "cell_type": "markdown",
   "metadata": {},
   "source": [
    "The astar estrategy try to expand the **node**, which is closest to the goal and also it consider the cost to reach that **node**.\n",
    "\n",
    "Thus, the evaluation of the nodes is done using the function:\n",
    "\n",
    "f(n) = g(n) + h(n)\n",
    "    - g(n): cost to reach each node\n",
    "    - h(n): cost to get from the node to the goal\n",
    "    \n",
    "In this project, the g(n) is equal to the path cost."
   ]
  },
  {
   "cell_type": "markdown",
   "metadata": {},
   "source": [
    " The path cost of this solution increse whent the state change by an action.\n",
    " \n",
    " The costs is 1 for every change our step in the path, since all step have the same value."
   ]
  },
  {
   "cell_type": "code",
   "execution_count": null,
   "metadata": {},
   "outputs": [],
   "source": [
    "   def path_cost(self, c, state1, action, state2):\n",
    "        return c + 1"
   ]
  },
  {
   "cell_type": "markdown",
   "metadata": {},
   "source": [
    "## Astar One (A*1)"
   ]
  },
  {
   "cell_type": "code",
   "execution_count": null,
   "metadata": {},
   "outputs": [],
   "source": [
    "def best_first_graph_search(problem, f, display=False):\n",
    "    \"\"\"Search the nodes with the lowest f scores first.\n",
    "    You specify the function f(node) that you want to minimize; for example,\n",
    "    if f is a heuristic estimate to the goal, then we have greedy best\n",
    "    first search; if f is node.depth then we have breadth-first search.\n",
    "    There is a subtlety: the line \"f = memoize(f, 'f')\" means that the f\n",
    "    values will be cached on the nodes as they are computed. So after doing\n",
    "    a best first search you can examine the f values of the path returned.\"\"\"\n",
    "    f = memoize(f, 'f') \n",
    "    node = Node(problem.initial)\n",
    "    frontier = PriorityQueue('min', f)\n",
    "    frontier.append(node)\n",
    "    explored = set()\n",
    "    while frontier:\n",
    "        node = frontier.pop()\n",
    "        if problem.goal_test(node.state):\n",
    "            if display:\n",
    "                print(len(explored), \"paths have been expanded and\", len(frontier), \"paths remain in the frontier\")\n",
    "            return node\n",
    "        explored.add(node.state)\n",
    "        for child in node.expand(problem):\n",
    "            if child.state not in explored and child not in frontier:\n",
    "                frontier.append(child)\n",
    "            elif child in frontier:\n",
    "                if f(child) < frontier[child]:\n",
    "                    del frontier[child]\n",
    "                    frontier.append(child)\n",
    "    return Non"
   ]
  }
 ],
 "metadata": {
  "kernelspec": {
   "display_name": "Python 3",
   "language": "python",
   "name": "python3"
  },
  "language_info": {
   "codemirror_mode": {
    "name": "ipython",
    "version": 3
   },
   "file_extension": ".py",
   "mimetype": "text/x-python",
   "name": "python",
   "nbconvert_exporter": "python",
   "pygments_lexer": "ipython3",
   "version": "3.8.2"
  }
 },
 "nbformat": 4,
 "nbformat_minor": 4
}

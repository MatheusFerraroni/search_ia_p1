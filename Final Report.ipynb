{
  "nbformat": 4,
  "nbformat_minor": 0,
  "metadata": {
    "colab": {
      "name": "Report.ipynb",
      "provenance": [],
      "collapsed_sections": [
        "TzNJDNdBSiXy",
        "z1BNaG1xSq3j",
        "qEvFcd5jdROY",
        "ywGTkmlQQ9Yd",
        "KvvgPZYxWo4-",
        "xCBtPi4NW9Za",
        "Xe1hkEvOZgT8",
        "pljOnM_HbMI5",
        "OJoxFZNJbccH",
        "9LVC847sbgdq",
        "Hc-yvZ4qbkgh"
      ]
    },
    "kernelspec": {
      "name": "python3",
      "display_name": "Python 3"
    }
  },
  "cells": [
    {
      "cell_type": "markdown",
      "metadata": {
        "id": "uDgcJ3xfSwxh",
        "colab_type": "text"
      },
      "source": [
        "# **Introduction to Artificial Intelligence - MO416A**\n",
        "**UNIVERSITY OF CAMPINAS**\n",
        "\n",
        "\n",
        "\n",
        "This work was completed by the following members:\n",
        "\n",
        "\n",
        "\n",
        "*   Aissa Hadj - 265189\n",
        "*   Lucas Zanco Ladeira - 188951\n",
        "*   Matheus Ferraroni - 212142\n",
        "*   Maria Vitória Rodrigues Oliveira - 262884\n",
        "*   Oscar Ciceri - 164786\n",
        "\n",
        "The original code of the project is located on a [repository inside Github](https://github.com/lucaslzl/search_ia_p1).\n",
        "\n"
      ]
    },
    {
      "cell_type": "markdown",
      "metadata": {
        "id": "gqNsAEmhiWs1",
        "colab_type": "text"
      },
      "source": [
        "![alt text](https://cdn02.nintendo-europe.com/media/images/10_share_images/games_15/nes_5/H2x1_NES_PacMan.jpg)"
      ]
    },
    {
      "cell_type": "markdown",
      "metadata": {
        "id": "TzNJDNdBSiXy",
        "colab_type": "text"
      },
      "source": [
        "# **I - Introduction**\n",
        "\n",
        "\n"
      ]
    },
    {
      "cell_type": "markdown",
      "metadata": {
        "id": "FJnz5Eovcu6I",
        "colab_type": "text"
      },
      "source": [
        "In this project, we choose to apply various search methods to the Pac-man game. Pac-man is a maze arcade game created in 1980 by Namco [[1]](https://en.wikipedia.org/wiki/Pac-Man). Pac-man is a character that must placed in a maze that must collect pieces and find the exit (the goal) without being caught by moving ghosts. We set two objectives in this project. The first one aims to experiment with each one of the search method in a practical way. Secondly, we want to determine which search algorithm, among the ones we selected, is best suited for the Pac-man game, according to the metrics and game conditions considered we will present shortly. \n",
        "\n",
        "\n",
        "The current report will be structured as follow. We will start by\n",
        "\n",
        "1. presenting how we modeled the game, then\n",
        "2. describing some of the most important component of our code implementation, \n",
        "3. giving the motivations for choosing the search methods we selected, \n",
        "4. showing the results found, and finally \n",
        "5. we will suggest which search method is best suited depending on the game conditions. \n",
        "\n",
        "We also wish to note here that the programming language for this project is Python version 3.8 .\n"
      ]
    },
    {
      "cell_type": "markdown",
      "metadata": {
        "id": "z1BNaG1xSq3j",
        "colab_type": "text"
      },
      "source": [
        "# **II - Problem modeling**\n",
        "\n"
      ]
    },
    {
      "cell_type": "markdown",
      "metadata": {
        "id": "2PyA-xdacGni",
        "colab_type": "text"
      },
      "source": [
        "## **1 - General**\n",
        "\n",
        "In order to implement the Pac-man game, we decided to do the following modelization. \n",
        "\n",
        "The main goal of the problem is to find a path that leads to the goal in order to solve the maze and finish the game. A second objective of Pac-man is to collect as many points as possible while progressing inside the maze.\n",
        "\n",
        "We also defined a set of rules. First, Pac-man can move freely inside the white spaces in the maze. However, it can't go back and revisit already visited nodes. As with the original game, there are ghosts inside the map. For simplification, we make the assumption that the ghosts  are static and thus can't move. The problem is therefore deterministic, we can fully determine the next state of the game given the current state as well as the action chosen by Pac-man. \n",
        "\n",
        "Under those conditions, Pac-man will reason about the solution before actually adopting it. That means that, even before the game starts, we execute any of the search method to select a path from the starting position to the goal position. Once the search is complete, we provide a list of actions for Pac-man to follow in order to solve the maze. \n",
        "\n",
        "The other two important game conditions, whether there is a countdown (a time limit) for Pac-man to reach the goal, or Pac-man must collect the maximum number of points, will be discussed later in the report. Those two conditions will guide us in determining which search method is more appropriate by adopting either one of those constraints.\n",
        "\n",
        "Below, we briefly discuss some of the most important elements of the problem.\n",
        "\n",
        "**The maze:** In the game, there is a maze where Pac-man\n",
        "has to collect as many pieces (we use the term \"points\" in this project) as possible without being caught by one of the ghosts. The maze is defined in\n",
        "terms of a grid. The black-areas, in a Pac-Man game, are non-traversable walls. They are represented as a sequence of # symbols in the project. The pieces that Pac-man must collect in the maze are represented as \"P\" letters in our mazes. We also note that, under our game conditions, the ghosts present in the mazes are frozen. This means that they can't move and, for simplicity, we decided to replace them with walls. Pac-man can't go through them that way. Below is an exemple of a representation of a maze. When the game begins, Pac-man starts at the position described with the \"S\" letter, and must finish the game by reaching the goal position (\"G\" letter in the maze). Below, we give more details about the implementation of the maze inside the file \"map.py\". We also wish to note that, in the project, we use the term \"map\" to designate the maze.\n",
        "\n",
        "![alt text](https://github.com/lucaslzl/search_ia_p1/blob/master/maps/example%20of%20maze.png?raw=true)\n",
        "\n",
        "\n",
        "**Actions:** In this game, there are in total 4 possible actions that Pac-man can choose: left, right, down or up in that order. Depending on the position of Pac-man in the maze, there might be fewer actions allowed. For instance, if Pac-man reaches a wall, only sideway movements are allowed. \n",
        "\n",
        "\n",
        "**Nodes:** each white element on the maze represents a position Pac-man can go by. We identify them as nodes in the project. Each node has a state, a position (defined by a pair of two elements (i, j) representing its row and column positions inside the map), a number of points (for simplicity, there is only a maximum of one point per node), a path cost (cost to reach that node from a parent node), and successors. Successors are defined as a list of nodes where Pac-man can move next by selecting any of the actions available.    \n",
        "\n",
        "Finally, in order to implement and evaluate the search methods for the problem described, we use the AIMA\n",
        "function library [2].\n",
        "\n",
        "**Note on the nodes explored:** During any of the search selected, we keep track of the nodes explored using a set. The set contains lists of all nodes visited as a sequence. Since a given node can have as many as 4 parents, Pac-man can visit the same node from different paths. This means that the same node can be present in various lists inside the set of explored nodes. However, the same node can't be present more than once inside the same list, thus preventing any infinite loop from happening.\n",
        "\n",
        "\n"
      ]
    },
    {
      "cell_type": "markdown",
      "metadata": {
        "id": "uep2S9b6I_Ua",
        "colab_type": "text"
      },
      "source": [
        "## **2 - Methodology for search method comparison**\n",
        "\n",
        "**Maps:** To help us decide which search method is optimal in the Pac-man game, we will conduct an experiment under various conditions. We designed 9 different maps, classified under two groups. The first group is composed of 4 maps: map4, map10, map11 and map12. Those are totally empty maps. Meaning they contain no walls inside them. The second group is composed of 5 maps containing walls placed ramdomly.\n",
        "The maps are of different sizes in length and width to see the effect of the maze size on each search method.   \n",
        "In addition, the points (designed by the letter \"P\" in the mapes) are randomly placed, and there is a maximum number of 10 points inside each map to collect. \n",
        "\n",
        "\n",
        "**Metrics:** In order to compare the different search methods, we will measure the following metrics:\n",
        "\n",
        "\n",
        "1. Time (sec, seconds): it's the execution time from start to finish of each search method to solve the maze\n",
        "2. Nodes: it's the number of nodes explored by each search method\n",
        "3. Expanded nodes: it's the number of nodes each search method explored to find a solution\n",
        "4. Nodes per second (Nodes/sec): \n",
        "5. Expanded nodes per second (Expanded nodes/sec):\n",
        "6. Action: it's the total number of actions has to take in order to go from the initial position to the goal\n",
        "7. Points: it's the number of points Pac-man collected in its path to the goal\n",
        "\n",
        "The number of nodes metric will help us measure the memory used by each search method to find a solution.\n",
        "\n",
        "With all those metrics measured during the simulations, we would then be able compare the perfomance of each search method under different hypotheses.\n",
        "\n",
        "We run each search method against each map 10 times. This will help us build confidence intervals on each metric. \n",
        "\n",
        "We run the independant experiments all at once (using the script located inside \"execute.sh\") inside a single machine. It's a MacBook Air containing a 1.6 GHz Intel Core I5, and 8 Gb of RAM. TO prevent any skewing of the results, we closed all other applications, so that no other script was running in parallel while conducting the experiments.\n"
      ]
    },
    {
      "cell_type": "markdown",
      "metadata": {
        "id": "qEvFcd5jdROY",
        "colab_type": "text"
      },
      "source": [
        "## **3 - Map.py**\n",
        "\n",
        "Two types of maps are used: with points and no points. On maps with points, 'P' represents scoring locations. The symbol \"#\" represents the barrier, i.e., a blocked space. Empty spaces are free to move, and the \"S\" is the start point. Also, \"G\" represents the goal, and \"$\" is the passed locations. Then, the first map with points is as follows:\n",
        "\n"
      ]
    },
    {
      "cell_type": "code",
      "metadata": {
        "id": "H2jE4pywdakJ",
        "colab_type": "code",
        "colab": {}
      },
      "source": [
        "###########\n",
        "#      PPP#\n",
        "# ### ###P#\n",
        "# #     #P#\n",
        "# #P###P#P#\n",
        "#P#  G  # #\n",
        "#P####### #\n",
        "#    S    #\n",
        "###########"
      ],
      "execution_count": 0,
      "outputs": []
    },
    {
      "cell_type": "markdown",
      "metadata": {
        "id": "pMPJUgKIdh1b",
        "colab_type": "text"
      },
      "source": [
        "Each map is in a text file. Then, the map class read these maps through the init function, which calls the validation. The script below exhibit this:"
      ]
    },
    {
      "cell_type": "code",
      "metadata": {
        "id": "p20xvDtydjDu",
        "colab_type": "code",
        "colab": {}
      },
      "source": [
        "def __init__(self, map_text=None):\n",
        "        self.map = None\n",
        "        self.start = None\n",
        "        self.goal = None\n",
        "        self.pos = None\n",
        "        self.points_pos = []\n",
        "        self.points = 0\n",
        "        self.cost_till_here = 0\n",
        "        self.hashed = None\n",
        "\n",
        "        if map_text!=None:\n",
        "            self.validateMap(map_text)"
      ],
      "execution_count": 0,
      "outputs": []
    },
    {
      "cell_type": "markdown",
      "metadata": {
        "id": "PhyHYSKJdnml",
        "colab_type": "text"
      },
      "source": [
        "The validate function verifies if the size of all lines and columns have the same size. Then, it saves the Goal and Point position in the map, and express these locations by 3 and 1, respectively. It sets up \"0\" value where there is a barrier, and \"1\" value where there is a space. Besides that, the start point (S) is described as \"2\". The script below exhibit this:"
      ]
    },
    {
      "cell_type": "code",
      "metadata": {
        "id": "NFeYyryndp0a",
        "colab_type": "code",
        "colab": {}
      },
      "source": [
        "def validateMap(self, m):\n",
        "        m = m.split(\"\\n\")\n",
        "\n",
        "        for i in range(1,len(m),1):\n",
        "            if len(m[i])!=len(m[0]):\n",
        "                raise Exception(\"Map lines have different sizes.\")\n",
        "\n",
        "        i = 0\n",
        "        j = 0\n",
        "\n",
        "        self.map = []\n",
        "        for line in m:\n",
        "            j=0\n",
        "            self.map.append([])\n",
        "            for c in line:\n",
        "                if ((i==0 or i==len(m)-1) and c!=\"#\") or ((j==0 or j==len(m[i])-1) and c!=\"#\"):\n",
        "                    raise Exception(\"Maze borders must be '#'.\")\n",
        "                if c == \"#\":\n",
        "                    self.map[i].append(0)\n",
        "                elif c == \" \":\n",
        "                    self.map[i].append(1)\n",
        "                elif c.upper() == \"S\":\n",
        "                    if self.start!=None:\n",
        "                        raise Exception(\"Only one Start is allowed.\")\n",
        "                    self.map[i].append(2)\n",
        "                    self.start = [j,i]\n",
        "                    self.pos = [j,i]\n",
        "                elif c.upper() == \"G\":\n",
        "                    if self.goal!=None:\n",
        "                        raise Exception(\"Only one Goal is allowed.\")\n",
        "                    self.map[i].append(3)\n",
        "                    self.goal = [j,i]\n",
        "                elif c.upper() == \"P\":\n",
        "                    self.map[i].append(1)\n",
        "                    self.points_pos.append([j,i])\n",
        "                else:\n",
        "                    raise Exception(\"Invalid map char: \"+c)\n",
        "\n",
        "                j += 1\n",
        "            i += 1\n",
        "\n",
        "        if self.start==None or self.goal==None:\n",
        "            raise Exception(\"Start and Goal must be provided\")"
      ],
      "execution_count": 0,
      "outputs": []
    },
    {
      "cell_type": "markdown",
      "metadata": {
        "id": "sewcDEzMdur1",
        "colab_type": "text"
      },
      "source": [
        "Then, all positions on the map are shown as integers, as shown below:"
      ]
    },
    {
      "cell_type": "code",
      "metadata": {
        "id": "k1qPyMfedxHP",
        "colab_type": "code",
        "colab": {}
      },
      "source": [
        "00000000000\n",
        "01111111110\n",
        "01000100010\n",
        "01011111010\n",
        "01010001010\n",
        "01011311010\n",
        "01000000010\n",
        "01111211110\n",
        "00000000000"
      ],
      "execution_count": 0,
      "outputs": []
    },
    {
      "cell_type": "code",
      "metadata": {
        "id": "Y_156tk-d2KD",
        "colab_type": "code",
        "colab": {}
      },
      "source": [
        "def printVisual(self):\n",
        "        for i in range(len(self.map)):\n",
        "            for j in range(len(self.map[i])):\n",
        "                c = None\n",
        "                if self.map[i][j]==0:\n",
        "                    c = \"#\"\n",
        "                elif self.map[i][j]==1:\n",
        "                    c = \" \"\n",
        "                elif self.map[i][j]==2:\n",
        "                    c = \"S\"\n",
        "                elif self.map[i][j]==3:\n",
        "                    c = \"G\"\n",
        "                elif self.map[i][j]==4:\n",
        "                    c = \"$\"\n",
        "\n",
        "                for p in self.getPointsLeft():\n",
        "                    if j==p[0] and i==p[1]:\n",
        "                        c = \"P\"\n",
        "\n",
        "                if i==self.pos[1] and j==self.pos[0]:\n",
        "                    if self.pos!=self.start:\n",
        "                        c = \"X\"\n",
        "                print(c,end=\"\")\n",
        "            print(\"\")"
      ],
      "execution_count": 0,
      "outputs": []
    },
    {
      "cell_type": "markdown",
      "metadata": {
        "id": "TzbEjUGtdzQ1",
        "colab_type": "text"
      },
      "source": [
        "In the code below, it was verified the options of actions, depending on the self-position. If on the left / right / up / down there is no barrier and it was not a covered space, then it can be considered as a movement option."
      ]
    },
    {
      "cell_type": "code",
      "metadata": {
        "id": "2P9am7OVd9n_",
        "colab_type": "code",
        "colab": {}
      },
      "source": [
        "def getActions(self):\n",
        "        ret1 = []\n",
        "        ret2 = []        \n",
        "        \n",
        "        # LEFT\n",
        "        val = self.map[self.pos[1]][self.pos[0]-1]\n",
        "        if val!=0 and val!=4:\n",
        "            ret1.append(\"E\")\n",
        "            ret2.append(1)\n",
        "        \n",
        "        # RIGHT\n",
        "        val = self.map[self.pos[1]][self.pos[0]+1]\n",
        "        if val!=0 and val!=4:\n",
        "            ret1.append(\"D\")\n",
        "            ret2.append(2)\n",
        "        # UP\n",
        "        val = self.map[self.pos[1]+1][self.pos[0]]\n",
        "        if val!=0 and val!=4:\n",
        "            ret1.append(\"B\")\n",
        "            ret2.append(3)\n",
        "\n",
        "        # DOWN\n",
        "        val = self.map[self.pos[1]-1][self.pos[0]]\n",
        "        if val!=0 and val!=4:\n",
        "            ret1.append(\"C\")\n",
        "            ret2.append(4)\n",
        "\n",
        "        return ret1, ret2"
      ],
      "execution_count": 0,
      "outputs": []
    },
    {
      "cell_type": "markdown",
      "metadata": {
        "id": "ywGTkmlQQ9Yd",
        "colab_type": "text"
      },
      "source": [
        "# **III - Search Methods Considered**\n",
        "\n",
        "\n",
        "\n",
        "\n"
      ]
    },
    {
      "cell_type": "markdown",
      "metadata": {
        "id": "pT9af0cxb8qS",
        "colab_type": "text"
      },
      "source": [
        "In this problem, we selected the following search methods: \n",
        "\n",
        "\n",
        "\n",
        "1.   Breadth-first search\n",
        "2.   Depth-first search\n",
        "3. A*1\n",
        "4. A*2\n",
        "5. Local beam search\n",
        "\n",
        "Below we describe each one of them, explain why they were chosen for this project, as well as showing the script implemented in Python. "
      ]
    },
    {
      "cell_type": "markdown",
      "metadata": {
        "id": "6D7aQm3iVvjO",
        "colab_type": "text"
      },
      "source": [
        "## **1 - Breadth-first search**\n",
        "\n",
        "For the performance measures we consider $b$ the average number of sucessors and $d$ shallowest depth of solution.\n",
        "\n",
        "Breadth-first Search\n",
        "This strategy has the capability to search in a graph-like (graph or tree) data structure. The distance from a node to the starting node is used to explore the data. The key idea is that it may not explore a node of a farther distance without exploring every node from the same distance. A queue structure is usually utilized as the First In First Out (FIFO) rule is followed.\n",
        "\n",
        "**Performance measures:**\n",
        "\n",
        "**Completeness**: Yes, this strategy is classified as complete as it finds the goal if it exists.\n",
        "\n",
        "**Optimization:** Yes, only if all the paths have the same cost.\n",
        "\n",
        "**Time complexity:** $ O(b^d) $\n",
        "\n",
        "**Memory complexity:** $ O(b^d) $\n",
        "\n",
        "Below we provide the implementation of the breadth-first search in Python."
      ]
    },
    {
      "cell_type": "code",
      "metadata": {
        "id": "zzXEXl_uWgMw",
        "colab_type": "code",
        "colab": {}
      },
      "source": [
        "def BreadthFirst(problem):\n",
        "\n",
        "    checkeds = []\n",
        "    frontier = deque([Node(problem.initial)])\n",
        "\n",
        "    while frontier:\n",
        "\n",
        "        node = frontier.popleft()\n",
        "\n",
        "        if problem.goal_test(node.state):\n",
        "            return node\n",
        "\n",
        "        frontier.extend(node.expand(problem))\n",
        "\n",
        "    return None"
      ],
      "execution_count": 0,
      "outputs": []
    },
    {
      "cell_type": "markdown",
      "metadata": {
        "id": "KvvgPZYxWo4-",
        "colab_type": "text"
      },
      "source": [
        "## **2 - Depth-first search**\n",
        "\n",
        "This strategy has the capability to search in a graph-like data structure. The distance from a node to the starting node is used to explore the data. The key idea is that it will explore a node with the farther distance without exploring any other node from the same distance if possible. A stack structure is usually utilized as the Last In First Out (LIFO) rule is followed.\n",
        "\n",
        "**Performance measures:**\n",
        "\n",
        "**Completeness:** No, it may create an infinite loop if a branch has no end.\n",
        "\n",
        "**Optimization:** No, there is no guarantee that will find the best solution even if all paths have the same cost.\n",
        "\n",
        "**Time complexity:** $ O(b^d) $\n",
        "\n",
        "**Memory complexity:** $ O(bd) $\n",
        "\n",
        "Below we provide the implementation of the depth-first search in Python."
      ]
    },
    {
      "cell_type": "code",
      "metadata": {
        "id": "G6rLovuTW58_",
        "colab_type": "code",
        "colab": {}
      },
      "source": [
        "def DepthFirst(problem):\n",
        "\n",
        "    frontier = [Node(problem.initial)]\n",
        "\n",
        "    while frontier:\n",
        "\n",
        "        node = frontier.pop()\n",
        "\n",
        "        if problem.goal_test(node.state):\n",
        "            return node\n",
        "\n",
        "        frontier.extend(node.expand(problem))\n",
        "\n",
        "    return None"
      ],
      "execution_count": 0,
      "outputs": []
    },
    {
      "cell_type": "markdown",
      "metadata": {
        "id": "xCBtPi4NW9Za",
        "colab_type": "text"
      },
      "source": [
        "## **3 - A-Star**\n",
        "\n",
        "### **Strategy**\n",
        "\n",
        "This solution employs the best-first graph search or greedy search, thus the node expansions are given by the lowest scores first policy.\n",
        "\n",
        "This policy sorts the nodes, employs a mechanism that minimizes the function f(n). For example, the breadth-first search occurs when f(n)=node.depth.\n",
        "\n",
        "Moreover, the function f(n) \"memorizes\" the nodes previously computed, in order to examine the f values and recover the path.\n",
        "\n",
        "The followig code shows the implementation of the best-first graph search:"
      ]
    },
    {
      "cell_type": "code",
      "metadata": {
        "id": "ChF_TzYkXW9i",
        "colab_type": "code",
        "colab": {}
      },
      "source": [
        "def best_first_graph_search(problem, f, display=False):\n",
        "    # Nodes in cache\n",
        "    f = memoize(f, 'f') \n",
        "    node = Node(problem.initial)\n",
        "    # Priority queue giving by the lowest score in f(n)=g(n)+h(n)\n",
        "    frontier = PriorityQueue('min', f)\n",
        "    # Initial node\n",
        "    frontier.append(node)\n",
        "    explored = set()\n",
        "    # While node goal different goal state\n",
        "    while frontier:\n",
        "        node = frontier.pop()\n",
        "        # If node goal equal node state, return node\n",
        "        if problem.goal_test(node.state):\n",
        "            if display:\n",
        "                print(len(explored), \"paths have been expanded and\", len(frontier), \"paths remain in the frontier\")\n",
        "            return node\n",
        "        # else, add node to the priority queue\n",
        "        explored.add(node.state)\n",
        "        for child in node.expand(problem):\n",
        "            if child.state not in explored and child not in frontier:\n",
        "                frontier.append(child)\n",
        "            elif child in frontier:\n",
        "                if f(child) < frontier[child]:\n",
        "                    del frontier[child]\n",
        "                    frontier.append(child)\n",
        "    return None\n",
        "\n",
        "def Astar(problem, display=False):\n",
        "    h = None\n",
        "    h = memoize(h or problem.h, 'h')\n",
        "    fn = n.path_cost + h(n)\n",
        "    \n",
        "    return best_first_graph_search(problem, lambda n: fn, display)"
      ],
      "execution_count": 0,
      "outputs": []
    },
    {
      "cell_type": "markdown",
      "metadata": {
        "id": "AQGT8Ds4Xdlc",
        "colab_type": "text"
      },
      "source": [
        "The A Star strategy tries to expand the node, which is closest to the goal, and also considers the cost to reach that node. This expansion policy means that the f function depends on two values.\n",
        "\n",
        "Thus, the evaluation of the nodes is done employing the function f(n):\n",
        "\n",
        "f(n) = g(n) + h(n)\n",
        "\n",
        "- g(n): cost to reach each node\n",
        "- h(n): cost to get from the node to the goal\n",
        "\n",
        "In this project, the  function g(n) is equal to the path cost.\n",
        "\n",
        "The path cost of this solution increases by a value of 1 when the state changes by an action.\n",
        "\n",
        "Thus, the cost is uniform for every step in the path, since all steps have the same value."
      ]
    },
    {
      "cell_type": "code",
      "metadata": {
        "id": "7BF0yO4EXgoZ",
        "colab_type": "code",
        "colab": {}
      },
      "source": [
        "def path_cost(self, c, state1, action, state2):\n",
        "        return c + 1"
      ],
      "execution_count": 0,
      "outputs": []
    },
    {
      "cell_type": "markdown",
      "metadata": {
        "id": "RLPYftpCXhXn",
        "colab_type": "text"
      },
      "source": [
        "Also, the node evaluation is given by a heuristic h(n), which assumes that the node closest to the goal is the fastest solution.\n",
        "\n",
        "The following sections show the two heuristics employed in this project."
      ]
    },
    {
      "cell_type": "markdown",
      "metadata": {
        "id": "1QmUmQPsXkDI",
        "colab_type": "text"
      },
      "source": [
        "### **A-Star 1**\n",
        "\n",
        "The A*1 heuristic employs the Euclidean distance, which calculates the straight line distance in a Cartesian plan.\n",
        "\n",
        "Thus, h1(n) is calculated as:"
      ]
    },
    {
      "cell_type": "code",
      "metadata": {
        "id": "35PiawVDYGxa",
        "colab_type": "code",
        "colab": {}
      },
      "source": [
        "def h1(self, node):\n",
        "    return node.state.getDistance()\n",
        "    \n",
        "def getDistance(self):\n",
        "    v = distance.euclidean(self.pos, self.goal)\n",
        "    return v"
      ],
      "execution_count": 0,
      "outputs": []
    },
    {
      "cell_type": "markdown",
      "metadata": {
        "id": "GzT_pI1bYKOQ",
        "colab_type": "text"
      },
      "source": [
        "The A Search is complete and optimal when the function h(n) satisfies the following conditions:\n",
        "\n",
        "Consistent heuristic:$$h(n) \\leq  c(n, a, n') + h(n')$$"
      ]
    },
    {
      "cell_type": "code",
      "metadata": {
        "id": "mlz16YxJYNYw",
        "colab_type": "code",
        "colab": {
          "base_uri": "https://localhost:8080/",
          "height": 164
        },
        "outputId": "60ab95a2-fc74-48a2-d0e9-ce59064c155b"
      },
      "source": [
        "Image(\"img/consistent.png\", width=500, height=300)"
      ],
      "execution_count": 3,
      "outputs": [
        {
          "output_type": "error",
          "ename": "NameError",
          "evalue": "ignored",
          "traceback": [
            "\u001b[0;31m---------------------------------------------------------------------------\u001b[0m",
            "\u001b[0;31mNameError\u001b[0m                                 Traceback (most recent call last)",
            "\u001b[0;32m<ipython-input-3-fef49fc85412>\u001b[0m in \u001b[0;36m<module>\u001b[0;34m()\u001b[0m\n\u001b[0;32m----> 1\u001b[0;31m \u001b[0mImage\u001b[0m\u001b[0;34m(\u001b[0m\u001b[0;34m\"img/consistent.png\"\u001b[0m\u001b[0;34m,\u001b[0m \u001b[0mwidth\u001b[0m\u001b[0;34m=\u001b[0m\u001b[0;36m500\u001b[0m\u001b[0;34m,\u001b[0m \u001b[0mheight\u001b[0m\u001b[0;34m=\u001b[0m\u001b[0;36m300\u001b[0m\u001b[0;34m)\u001b[0m\u001b[0;34m\u001b[0m\u001b[0;34m\u001b[0m\u001b[0m\n\u001b[0m",
            "\u001b[0;31mNameError\u001b[0m: name 'Image' is not defined"
          ]
        }
      ]
    },
    {
      "cell_type": "markdown",
      "metadata": {
        "id": "9IVQoGZCYQgU",
        "colab_type": "text"
      },
      "source": [
        "In this case, the steps between the actual free space and the goal space can never be longer than the Euclidean distance.\n",
        "\n",
        "If\n",
        "\n",
        "h(n) = Euclidean distance from node n to goal g\n",
        "h(n') : Euclidean distance from node n' to goal g\n",
        "c(n, a, n') = 1\n",
        "This heuristic, which employs the Euclidean distance, is a consistent heuristic due to in the best case, when the actions to go from n to n' decreases the path in 1 step. We have that the c(n, a, n') + h(n') is equal to h(n)."
      ]
    },
    {
      "cell_type": "markdown",
      "metadata": {
        "id": "pj4LHnTGYTx6",
        "colab_type": "text"
      },
      "source": [
        "### **A-Star 2**\n",
        "\n",
        "The A*2 heuristic employs the Euclidean distance combined with a distance to reach a near point.\n",
        "\n",
        "Thus, h2(n) is calculated as:\n",
        "\n",
        "If\n",
        "\n",
        "a = Euclidean distance from node n to goal g\n",
        "b = Euclidean distance from node n to the nearest point p\n",
        "c = Euclidean distance that point p to the goal g\n",
        "v = b + c\n",
        "\n",
        "As shown the following figure:"
      ]
    },
    {
      "cell_type": "code",
      "metadata": {
        "id": "l7uFeaplYpr0",
        "colab_type": "code",
        "colab": {
          "base_uri": "https://localhost:8080/",
          "height": 164
        },
        "outputId": "4abeb6c1-1dd4-4296-a45a-5d344b254a17"
      },
      "source": [
        "Image(\"img/h2.png\", width=300, height=300)"
      ],
      "execution_count": 4,
      "outputs": [
        {
          "output_type": "error",
          "ename": "NameError",
          "evalue": "ignored",
          "traceback": [
            "\u001b[0;31m---------------------------------------------------------------------------\u001b[0m",
            "\u001b[0;31mNameError\u001b[0m                                 Traceback (most recent call last)",
            "\u001b[0;32m<ipython-input-4-ae8deced62af>\u001b[0m in \u001b[0;36m<module>\u001b[0;34m()\u001b[0m\n\u001b[0;32m----> 1\u001b[0;31m \u001b[0mImage\u001b[0m\u001b[0;34m(\u001b[0m\u001b[0;34m\"img/h2.png\"\u001b[0m\u001b[0;34m,\u001b[0m \u001b[0mwidth\u001b[0m\u001b[0;34m=\u001b[0m\u001b[0;36m300\u001b[0m\u001b[0;34m,\u001b[0m \u001b[0mheight\u001b[0m\u001b[0;34m=\u001b[0m\u001b[0;36m300\u001b[0m\u001b[0;34m)\u001b[0m\u001b[0;34m\u001b[0m\u001b[0;34m\u001b[0m\u001b[0m\n\u001b[0m",
            "\u001b[0;31mNameError\u001b[0m: name 'Image' is not defined"
          ]
        }
      ]
    },
    {
      "cell_type": "markdown",
      "metadata": {
        "id": "HJxFURIBY8M8",
        "colab_type": "text"
      },
      "source": [
        "The heuristic considers v, as the Euclidian distance to go from the node n to the point and after to the goal. These distances satisfy the following inequality:\n",
        "\n",
        "$$ a \\leq b + c$$$$ a \\leq v$$\n",
        "However, the distance c is mapped to a smaller value equal to a, with the aim that the node considers the point and that the heristica be be consistent.\n",
        "\n",
        "The steps to calculate h2 are explained below.\n",
        "\n",
        "Find the distance from the node n to the nearest point p (distance b). Subsequently, calculate the distance from that point p to the goal g (distance c).\n",
        "If there are no more points on the map, it employs the Euclidian distance between the node n and the goal g (distance a), equal to h1.\n",
        "Calculate x as the division between a and v. The value of x is a number between 0 to 1 since a is always less or equal to c. Thus, when the node is closer to the point, the x value will approach 1.\n",
        "$$ x = \\frac{a}{v} = \\frac{a}{b+c}: 0 &lt; x \\leq 1 $$\n",
        "Calculate the complement of x a in order to penalize the distance c. Thus a higher the distance to c, the value of x will approach 1.\n",
        "$$ x' = 1 - x $$\n",
        "Finally, we consider x value as a percentage of c. The heuristic is consistent the calculated value need to be higher than c; then we add c to the percentage previously calculated as:\n",
        "$$ h_2 = c + c\\cdot(1-x): c &lt; h_2 &lt; 2 \\cdot c$$"
      ]
    },
    {
      "cell_type": "code",
      "metadata": {
        "id": "tvaii9AcY-ZW",
        "colab_type": "code",
        "colab": {}
      },
      "source": [
        "def h2(self, node):\n",
        "    return node.state.getDistancePoints()\n",
        "\n",
        "def getDistancePoints(self):\n",
        "    points = self.getPointsLeft()\n",
        "    # print(points)\n",
        "    dis_Pos_Goal = distance.euclidean(self.pos, self.goal)\n",
        "    dis_Pos_Point = distance.euclidean(self.pos, self.goal)\n",
        "    dis_Point_Goal = 0\n",
        "    valeu = 0\n",
        "    x = 0.0\n",
        "\n",
        "    if(len(points)==0):\n",
        "        valeu =  dis_Pos_Goal\n",
        "    else:\n",
        "        # Find the distance of the closest point\n",
        "        for ip in points:\n",
        "            if distance.euclidean(self.pos, ip) < dis_Pos_Point:\n",
        "                dis_Pos_Point = distance.euclidean(self.pos, ip)\n",
        "                dis_Point_Goal = distance.euclidean(ip, self.goal)\n",
        "        \n",
        "        # Calculate v\n",
        "        v = dis_Pos_Point + dis_Point_Goal\n",
        "        if dis_Pos_Point == 1:\n",
        "            v=0\n",
        "        if(v>0):\n",
        "            x = dis_Pos_Goal/v\n",
        "        else:\n",
        "            x = 1\n",
        "        # Calculate h2\n",
        "        valeu = dis_Pos_Goal + dis_Pos_Goal*(1-x)\n",
        "    return valeu"
      ],
      "execution_count": 0,
      "outputs": []
    },
    {
      "cell_type": "markdown",
      "metadata": {
        "id": "Xe1hkEvOZgT8",
        "colab_type": "text"
      },
      "source": [
        "## **5 - Local Beam Search**\n",
        "\n",
        "One of the method adopted to solve the Pac-man game is the local beam search. It's an algorithm that keeps track of k states. \n",
        "\n",
        "The main objective is to find the goal, and, if the goal isn't found yet, to collect as many points along the path to the goal as possible. \n",
        "\n",
        "Since the local beam search grabs k good neighbor states without thinking ahead about where to go next, this algorithm is greedy. In fact, it tries to increase the objective function defined as the number of collected points (the optimization problem). Under this method, the path to the goal is irrelevant. \n",
        "\n",
        "The way the search method works is that it selects the k best successors according to the number of points they contain. During the search, only k states are kept in memory every time we expand new nodes. This method is particularly suitable on devices with very limited memory. \n",
        "\n",
        "If collecting as many points as possible is important, the local beam search method is an appropriate algorithm for this problem.\n",
        "\n",
        "The steps for this algorithm are the following:\n",
        "\n",
        "\n",
        "1.   we begin with k randomly generated states,\n",
        "2.   all the successors of all the k states are generated,\n",
        "1.   if any of the successors is the goal, the algorithm stops\n",
        "2.   else we select the k best successors from the complete list of successors ranked by the number of points each node contains, and \n",
        "1.   we repeat the process from step 2\n",
        "\n",
        "An important hypothesis we make is that before starting the local beam search, we have no detail about the map, its size, structure or any other information that could give a clue about the maze. \n",
        "\n",
        "Also, since the number of possibilities can quickly get high as we progress inside the map, we set a value of 10 for the width. We select the 10 best successors at each time during the search. We choose k = 10 for two reasons. First, we select the best nodes from where to collect points, while having a raisonnable chance of finding the goal. If after the search ends, it doesn't find a solution, we increase the value of k by 5 and start a new search from the initial position \"S\". This process continues until the search either finds a solution or k reaches the maximum value of 5010 (at this value, there is a reasonable confidence we explored the entire map without finding the goal, provided the map is dense and has't a too large size). \n",
        "\n",
        "\n",
        "Again, the local beam search is selected, in this problem, to maximize the objective function which is the number of points collected. By design, during each step, the search select the k best immediates neighbors of the k current states. The ranking is made according to the number of points each successor contains. Thus, theoretically, we expect that the local beam search will give good results, among all the search methods implemented in the problem, if we consider only the number of points collected.\n",
        "\n",
        "On another perspective, if we imagine a map with points concentrated in a region of the map opposite to the goal, then the search will naturally progress to the region containing those points before heading back to the goal state. As a result, the solution path, according to the local beam search, would end up being longer than the one found by other methods (especially information searches using the Euclidean distance from the current node to the goal state).\n",
        "\n",
        "Since only k nodes are expanded when exploring the map, the path to the goal could be discarded (the unique path to the goal contains no points to collect for instance). Thus, there is no guarantee to find a solution with a given value of k, and therefore the local beam search isn't complete. To solve that issue in the context of the current problem, we start a new search by increasing the value of k until either all of the nodes are explored or we reach a solution. By increasing each time the value of k, we increase the number of successors kept in memory at each step of the process. Thus, the local beam search becomes more and more like the breadth-first search method.  \n",
        "\n",
        "\n",
        "**Completeness:** No, this strategy doesn't guarantee it will find a solution.\n",
        "\n",
        "**Optimization:** No, this strategy doesn't guarantee it will find the optimal solution (finding the path that collects the maximum number of points possible under the game conditions).\n",
        "\n",
        "**Time complexity:**  $ O(k^d) $ \n",
        "\n",
        "**Memory complexity:**  $ O(k^d) $\n",
        "\n",
        "Below we provide the implementation of the local beam search in Python."
      ]
    },
    {
      "cell_type": "code",
      "metadata": {
        "id": "Gbt_e4KWZprS",
        "colab_type": "code",
        "colab": {}
      },
      "source": [
        "def local_beam_search(problem, k_width):\n",
        "    \"\"\"\n",
        "    From the initial node, Select randomly k states,\n",
        "    From all the successors, select the k neighbors with highest value,\n",
        "    Stopping when goal is found or no more successor\n",
        "    Else repeat process\n",
        "    \"\"\"\n",
        "    current = Node(problem.initial)\n",
        "\n",
        "    if k_width >= len(current.expand(problem)):\n",
        "      k_successors = current.expand(problem)\n",
        "    else:\n",
        "      k_successors = random.sample(current.expand(problem), k=k_width)\n",
        "\n",
        "    #check if there are successors to the k successors selected\n",
        "    if not k_successors:\n",
        "        return None\n",
        "\n",
        "    explored = set()\n",
        "    goal_found = False\n",
        "\n",
        "    while goal_found == False:\n",
        "      all_successors = []\n",
        "\n",
        "      #Generate the successors of all the k best states\n",
        "      for successor in k_successors:\n",
        "        children = successor.expand(problem)\n",
        "        for child in children:\n",
        "          if child.state not in explored and child not in all_successors:\n",
        "            all_successors.append(child)\n",
        "\n",
        "      #if there is no successor, we stop\n",
        "      if not all_successors:\n",
        "        #print(\"No solution found with width =\", k_width)\n",
        "        break\n",
        "\n",
        "      #check if any successor is a goal\n",
        "      for successor in all_successors:\n",
        "        if problem.goal_test(successor.state):\n",
        "          goal_found = True\n",
        "          #print(\"Solution found for width =\", k_width)\n",
        "          return successor\n",
        "\n",
        "      #Select the k best successors\n",
        "      all_successors.sort(key=lambda node: node.state.getPoints(), reverse=True)\n",
        "      k_successors = all_successors[:k_width]\n",
        "\n",
        "      #Mark the k successors as explored, to avoid exploring same nodes\n",
        "      for successor in k_successors:\n",
        "        explored.add(successor.state)\n",
        "\n",
        "    return None"
      ],
      "execution_count": 0,
      "outputs": []
    },
    {
      "cell_type": "markdown",
      "metadata": {
        "id": "pljOnM_HbMI5",
        "colab_type": "text"
      },
      "source": [
        "# **IV - Results**"
      ]
    },
    {
      "cell_type": "markdown",
      "metadata": {
        "id": "PyyoSj2dbvuM",
        "colab_type": "text"
      },
      "source": [
        ""
      ]
    },
    {
      "cell_type": "markdown",
      "metadata": {
        "id": "OJoxFZNJbccH",
        "colab_type": "text"
      },
      "source": [
        "# **V - Performance Discussion**"
      ]
    },
    {
      "cell_type": "markdown",
      "metadata": {
        "id": "rVYcI0jcbwmk",
        "colab_type": "text"
      },
      "source": [
        ""
      ]
    },
    {
      "cell_type": "markdown",
      "metadata": {
        "id": "9LVC847sbgdq",
        "colab_type": "text"
      },
      "source": [
        "# **VI - Conclusion**"
      ]
    },
    {
      "cell_type": "markdown",
      "metadata": {
        "id": "yONZQNhdbxNU",
        "colab_type": "text"
      },
      "source": [
        ""
      ]
    },
    {
      "cell_type": "markdown",
      "metadata": {
        "id": "Hc-yvZ4qbkgh",
        "colab_type": "text"
      },
      "source": [
        "# **VII - Sources**"
      ]
    },
    {
      "cell_type": "markdown",
      "metadata": {
        "id": "BNaIIOCybT5w",
        "colab_type": "text"
      },
      "source": [
        "[1] https://en.wikipedia.org/wiki/Pac-Man\n",
        "\n",
        "[2] https://github.com/aimacode/aima-python/blob/master/search.ipynb"
      ]
    },
    {
      "cell_type": "markdown",
      "metadata": {
        "id": "4ZoBou07ccjB",
        "colab_type": "text"
      },
      "source": [
        "# **Appendix**"
      ]
    },
    {
      "cell_type": "markdown",
      "metadata": {
        "id": "DKmvicAwi-go",
        "colab_type": "text"
      },
      "source": [
        "## **Link to the Github repository of the project**\n",
        "\n",
        "[https://github.com/lucaslzl/search_ia_p1](https://github.com/lucaslzl/search_ia_p1)"
      ]
    },
    {
      "cell_type": "markdown",
      "metadata": {
        "id": "WLbCPh82cinS",
        "colab_type": "text"
      },
      "source": [
        "## **Link to the video**"
      ]
    },
    {
      "cell_type": "markdown",
      "metadata": {
        "id": "j-5pz-oTgjGY",
        "colab_type": "text"
      },
      "source": [
        "## **How to execute the files**\n",
        "\n",
        "There are two ways to execute the experiments:\n",
        "\n",
        "**1. Execute the python code called \"main.py\" and pass the parameters**\n",
        "\n",
        "The code considers the parameters to executed each strategy and map. It is possible change how many times it executes and to print or not the results.\n",
        "\n",
        "Run \"python3 main.py --(strategy flag)\" to execute.\n",
        "\n",
        "For instance, \"python main.py --bfs --maps=./maps/map1.txt,./maps/map2.txt\" executes both files with bfs.\n",
        "\n",
        "It is worth to point out that you may run \"python main.py --help\" to visualize all the possible flags and parameters.\n",
        "\n",
        "To see the state after aplying each action add the tag \"--print\"\n",
        "\n",
        "**2. Execute the shell code called \"execute.sh\"**\n",
        "\n",
        "The code executes every strategy in each map 10 times and save the results. In addition, a code called \"compute.py\" read all outputs and calculate distinct metrics.\n",
        "\n",
        "run \"./execute.sh\" and wait until it is done.\n",
        "\n",
        "All results are saved in the results folder as the \"computer.py\" code.\n",
        "\n",
        "Good idea to use virtual env. Tested on Python 3.8"
      ]
    }
  ]
}
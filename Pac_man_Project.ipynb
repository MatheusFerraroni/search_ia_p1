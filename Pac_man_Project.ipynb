{
  "nbformat": 4,
  "nbformat_minor": 0,
  "metadata": {
    "colab": {
      "name": "Pac-man Project.ipynb",
      "provenance": [],
      "collapsed_sections": [],
      "toc_visible": true
    },
    "kernelspec": {
      "name": "python3",
      "display_name": "Python 3"
    }
  },
  "cells": [
    {
      "cell_type": "markdown",
      "metadata": {
        "id": "bzJTyDu-Gjii",
        "colab_type": "text"
      },
      "source": [
        "## **Project 1 - Pac-man**\n",
        "\n",
        "Deadline: 04/05/2020\n",
        "\n",
        "\n",
        "To solve the problem, we define:\n",
        "\n",
        "*   The state representation\n",
        "*   The set of actions\n",
        "*   The objective state test\n",
        "*   The cost of the path (g(x))\n",
        "\n",
        "\n",
        "\n",
        "\n",
        "**Hypothesis:**\n",
        "\n",
        "For all the methods used to find a solution, we will assume the following hypothesis:\n",
        "\n",
        "\n",
        "\n",
        "*   the problem is completely observable and deterministic\n",
        "*   Pac-man is going to reason about the solution before actually adopting it.\n",
        "*   there is no time limit for Pac-man to go from initial position to the goal\n",
        "*   from the previous hypothesis, the path taken isn't important, only the final goal matters\n",
        "*   there is a cost g(x) for a movement in any direction\n",
        "*   there is a point function p(x) when going by grey areas\n",
        "\n",
        "\n",
        "The black areas are non-traversable walls, the grey path represents elements\n",
        "that should be caught by the agent, and the white areas are traversable areas."
      ]
    },
    {
      "cell_type": "markdown",
      "metadata": {
        "id": "yaJ0Uy7uNMQx",
        "colab_type": "text"
      },
      "source": [
        "# **Setting up the environment**\n",
        "\n",
        "**Manual part:** \n",
        "\n",
        "\n",
        "1.   Download the project from https://github.com/lucaslzl/search_ia_p1\n",
        "2.   Open Google Colab, and upload the Git project.\n",
        "\n",
        "**Execute the following cells**\n"
      ]
    },
    {
      "cell_type": "code",
      "metadata": {
        "id": "Z78LsCqkOAjW",
        "colab_type": "code",
        "colab": {}
      },
      "source": [
        "import zipfile\n",
        "!unzip  \"/content/search_ia_p1-master.zip\""
      ],
      "execution_count": 0,
      "outputs": []
    },
    {
      "cell_type": "markdown",
      "metadata": {
        "id": "ZjGcIcVkGyDo",
        "colab_type": "text"
      },
      "source": [
        "# **Local search method**\n"
      ]
    },
    {
      "cell_type": "markdown",
      "metadata": {
        "id": "VVFUNSGhPEdA",
        "colab_type": "text"
      },
      "source": [
        "For this method, we choose the local beam search. The local beam search algorithm keeps track of k states. \n",
        "\n",
        "The objective is to first find the goal, and, if the goal isn't found yet, to increase the number of points collected along the path to the goal. \n",
        "\n",
        "Since the local beam search grabs k good neighbor states without thinking ahead about where to go next, this algorithm is greedy. It tries to increase the objective function which is for Pac-man to collect as many points as possible (the optimization problem). The path to the goal is irrelevant. \n",
        "\n",
        "For those reasons, adopting the local beam search method is appropriate to this problem.\n",
        "\n",
        "Including the problem at hand, the steps for the algorithm are the following:\n",
        "\n",
        "\n",
        "1.   begin with k randomly generated states\n",
        "2.   all the successors of all k states are generated\n",
        "1.   if anyone of the successor is the goal, the algorithm stops\n",
        "2.   else we select the k best successors from the complete list of successors by choosing the state that increase the number of points, and \n",
        "1.   repeat the process\n",
        "\n",
        "\n",
        "\n",
        "\n",
        "\n",
        "\n"
      ]
    },
    {
      "cell_type": "code",
      "metadata": {
        "id": "7DkMPJimvDkm",
        "colab_type": "code",
        "colab": {}
      },
      "source": [
        "def k_states_local_beam_search(problem, k):\n",
        "    \"\"\"\n",
        "    From the initial node, Select randomly k states,\n",
        "    From all the successors, select the k neighbors with highest value,\n",
        "    Stopping when goal is found or no more successor\n",
        "    Else repeat process\n",
        "    \"\"\"\n",
        "    current = Node(problem.initial)\n",
        "    k_successors = random.choices(current.expand(problem), k=k)\n",
        "    #check if there are successors to the k successors selected\n",
        "    if not k_successors:\n",
        "        break\n",
        "    explored = set()\n",
        "    \n",
        "    while True:\n",
        "        all_successors = []\n",
        "        #Generate the successors of all the k best states\n",
        "        for successor in k_successors:\n",
        "          children = successor.expand(problem)\n",
        "          for child in children:\n",
        "            if child not in explored and child not in all_successors:\n",
        "              all_successors.add(child)\n",
        "        #if there is no successor, we stop\n",
        "        if not all_successors:\n",
        "            break\n",
        "        #check if any successor is a goal\n",
        "        for successor in all_successors:\n",
        "          if problem.goal_test(successor.state):\n",
        "              break\n",
        "        #Select the k best successors\n",
        "        all_successors.sort(key=lambda node: problem.value(node.state), reverse=True)\n",
        "        k_successors = all_successors[:k]\n",
        "        #Mark the k successors as explored, to avoid exploring same nodes\n",
        "        for successor in k_successors:\n",
        "          explored.add(successor.state)\n",
        "    \n",
        "    return explored"
      ],
      "execution_count": 0,
      "outputs": []
    },
    {
      "cell_type": "markdown",
      "metadata": {
        "id": "l4dfZ-WjGMoX",
        "colab_type": "text"
      },
      "source": [
        "To do:\n",
        "\n",
        "\n",
        "*   try different values for k, get memory, time, and whether we find a solution everytime.\n",
        "*   keep k constant, try different maps\n",
        "*   List item\n",
        "*   List item\n",
        "\n",
        "\n",
        "\n"
      ]
    },
    {
      "cell_type": "markdown",
      "metadata": {
        "id": "D03f37RsTWET",
        "colab_type": "text"
      },
      "source": [
        "# **Comparison of the different search methods** \n",
        "\n",
        "**Report**\n",
        "\n",
        "The system must be evaluated according to the quality of the solutions found and a critical evaluation is expected on\n",
        "the relationship between adopted parameters x solution performance. Graphs and tables representing the evolution of\n",
        "the solutions are expected. Additional comparisons with the literature are welcome, although they are not mandatory.\n",
        "\n",
        "The work consists of finding an adequate solution to the chosen problem, evaluating it according to: computational\n",
        "cost, completeness, optimality. Your are required to clearly define:\n",
        "\n",
        "\n",
        "*   How the problem was modeled\n",
        "*   Implementation specifics and restrictions\n",
        "\n",
        "\n",
        "**Questions:**\n",
        "\n",
        "\n",
        "*   how do we define an optimal solution\n",
        "*   List item\n",
        "\n",
        "\n",
        "\n"
      ]
    }
  ]
}
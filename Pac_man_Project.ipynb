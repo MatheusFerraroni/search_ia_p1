{
  "nbformat": 4,
  "nbformat_minor": 0,
  "metadata": {
    "colab": {
      "name": "Pac-man Project.ipynb",
      "provenance": [],
      "collapsed_sections": [],
      "include_colab_link": true
    },
    "kernelspec": {
      "name": "python3",
      "display_name": "Python 3"
    }
  },
  "cells": [
    {
      "cell_type": "markdown",
      "metadata": {
        "id": "view-in-github",
        "colab_type": "text"
      },
      "source": [
        "<a href=\"https://colab.research.google.com/github/lucaslzl/search_ia_p1/blob/master/Pac_man_Project.ipynb\" target=\"_parent\"><img src=\"https://colab.research.google.com/assets/colab-badge.svg\" alt=\"Open In Colab\"/></a>"
      ]
    },
    {
      "cell_type": "markdown",
      "metadata": {
        "id": "bzJTyDu-Gjii",
        "colab_type": "text"
      },
      "source": [
        "## **Pac-man**\n",
        "\n",
        "Deadline: 04/05/2020\n",
        "\n",
        "\n",
        "To solve the problem, we define:\n",
        "\n",
        "*   The state representation\n",
        "*   The set of actions\n",
        "*   The objective state test\n",
        "*   The cost of the path (g(x))\n",
        "\n",
        "\n",
        "\n",
        "\n",
        "**Hypothesis:**\n",
        "\n",
        "For all the methods used to find a solution, we will assume the following hypothesis:\n",
        "\n",
        "\n",
        "\n",
        "*   the problem is completely observable and deterministic\n",
        "*   Pac-man is going to reason about the solution before actually adopting it.\n",
        "*   there is no time limit for Pac-man to go from initial position to the goal\n",
        "*   from the previous hypothesis, the path taken isn't important, only the final goal matters\n",
        "*   there is a cost g(x) for a movement in any direction\n",
        "*   there is a point function p(x) when going by grey areas\n",
        "\n",
        "\n",
        "The black areas are non-traversable walls, the grey path represents elements\n",
        "that should be caught by the agent, and the white areas are traversable areas."
      ]
    },
    {
      "cell_type": "markdown",
      "metadata": {
        "id": "yaJ0Uy7uNMQx",
        "colab_type": "text"
      },
      "source": [
        "# **Setting up the environment**\n",
        "\n",
        "Execute the following cells to install all the dependencies:\n",
        "\n",
        "1.   clone the project from https://github.com/lucaslzl/search_ia_p1\n",
        "2.   clone the project from https://github.com/aimacode/aima-python\n",
        "1.   we then move the folder aimacode into search_ia_p1\n"
      ]
    },
    {
      "cell_type": "code",
      "metadata": {
        "id": "Z78LsCqkOAjW",
        "colab_type": "code",
        "colab": {}
      },
      "source": [
        "!git clone https://github.com/lucaslzl/search_ia_p1.git\n",
        "\n",
        "!git clone https://github.com/aimacode/aima-python\n",
        "\n",
        "import shutil\n",
        "shutil.move(\"/content/aima-python\", \"/content/search_ia_p1\") \n",
        "\n",
        "import sys\n",
        "sys.path.append(\"/content/search_ia_p1/aima-python\")\n",
        "import search"
      ],
      "execution_count": 0,
      "outputs": []
    },
    {
      "cell_type": "markdown",
      "metadata": {
        "id": "tQHgvBq1Vjl9",
        "colab_type": "text"
      },
      "source": [
        "Change the following paths:\n",
        "\n",
        "\n",
        "\n",
        "1.   in main.py, line 131, change path to '/content/search_ia_p1/maps/map1.txt'\n",
        "2.   in work.py, line 3, change path to \"/content/search_ia_p1/aima-python\"\n",
        "\n"
      ]
    },
    {
      "cell_type": "code",
      "metadata": {
        "id": "PwmCcRVaUHlT",
        "colab_type": "code",
        "outputId": "ae32c795-6adc-42e9-e417-7c5eeb151cbd",
        "colab": {
          "base_uri": "https://localhost:8080/",
          "height": 374
        }
      },
      "source": [
        "!python3 /content/search_ia_p1/main.py --lbs "
      ],
      "execution_count": 0,
      "outputs": [
        {
          "output_type": "stream",
          "text": [
            "Action Legend:\n",
            "            1/E = LEFT\n",
            "            2/D = RIGHT\n",
            "            3/B = DOWN\n",
            "            4/C = UP\n",
            "\n",
            "\n",
            "Criando mapa\n",
            "Criando mapa OK.\n",
            "Criando problema\n",
            "Criando problema OK\n",
            "Executando k_states_local_beam_search\n",
            "Executando k_states_local_beam_search OK\n",
            "Time: 0.0014729499816894531\n",
            "Node: 45\n",
            "Pont: 2\n",
            "Left: [[9, 1], [7, 4]]\n",
            "Actions:  [1, 1, 1, 1, 4, 4, 4, 4, 4, 4, 2, 2, 2, 2, 3, 3, 1, 1, 3, 3, 2, 2]\n",
            "--------------------------------------------\n",
            "\n",
            "\n"
          ],
          "name": "stdout"
        }
      ]
    },
    {
      "cell_type": "markdown",
      "metadata": {
        "id": "ZjGcIcVkGyDo",
        "colab_type": "text"
      },
      "source": [
        "# **Local search method**\n"
      ]
    },
    {
      "cell_type": "markdown",
      "metadata": {
        "id": "VVFUNSGhPEdA",
        "colab_type": "text"
      },
      "source": [
        "For this method, we choose the local beam search. The local beam search algorithm keeps track of k states. \n",
        "\n",
        "The objective is to first find the goal, and, if the goal isn't found yet, to increase the number of points collected along the path to the goal. \n",
        "\n",
        "Since the local beam search grabs k good neighbor states without thinking ahead about where to go next, this algorithm is greedy. It tries to increase the objective function which is for Pac-man to collect as many points as possible (the optimization problem). The path to the goal is irrelevant. \n",
        "\n",
        "For those reasons, adopting the local beam search method is appropriate to this problem.\n",
        "\n",
        "Including the problem at hand, the steps for the algorithm are the following:\n",
        "\n",
        "\n",
        "1.   begin with k randomly generated states\n",
        "2.   all the successors of all k states are generated\n",
        "1.   if anyone of the successor is the goal, the algorithm stops\n",
        "2.   else we select the k best successors from the complete list of successors by choosing the state that increase the number of points, and \n",
        "1.   repeat the process\n",
        "\n",
        "\n",
        "\n",
        "\n",
        "\n",
        "\n"
      ]
    },
    {
      "cell_type": "markdown",
      "metadata": {
        "id": "l4dfZ-WjGMoX",
        "colab_type": "text"
      },
      "source": [
        "To do:\n",
        "\n",
        "\n",
        "*   try different values for k, get memory, time, and whether we find a solution everytime.\n",
        "*   keep k constant, try different maps\n",
        "\n",
        "\n",
        "\n"
      ]
    },
    {
      "cell_type": "markdown",
      "metadata": {
        "id": "D03f37RsTWET",
        "colab_type": "text"
      },
      "source": [
        "# **Comparison of the different search methods** \n",
        "\n",
        "**Report**\n",
        "\n",
        "The system must be evaluated according to the quality of the solutions found and a critical evaluation is expected on\n",
        "the relationship between adopted parameters x solution performance. Graphs and tables representing the evolution of\n",
        "the solutions are expected. Additional comparisons with the literature are welcome, although they are not mandatory.\n",
        "\n",
        "The work consists of finding an adequate solution to the chosen problem, evaluating it according to: computational\n",
        "cost, completeness, optimality. Your are required to clearly define:\n",
        "\n",
        "\n",
        "*   How the problem was modeled\n",
        "*   Implementation specifics and restrictions\n",
        "\n",
        "\n",
        "**Questions:**\n",
        "\n",
        "\n",
        "**how do we define an optimal solution? **\n",
        "\n",
        "1. compare the methods on their own metrics\n",
        "2. compare the methods based on game conditions (countdown, limited time to reach goal, or bonus points more important)\n",
        "3. compare the methods based on the device specificities (limited battery life or limited memory)\n",
        "\n",
        "\n",
        "\n",
        "\n",
        "\n",
        "\n"
      ]
    }
  ]
}
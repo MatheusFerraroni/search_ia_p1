{
  "nbformat": 4,
  "nbformat_minor": 0,
  "metadata": {
    "colab": {
      "name": "Final Report.ipynb",
      "provenance": [],
      "collapsed_sections": [
        "TzNJDNdBSiXy",
        "Xe1hkEvOZgT8",
        "Hc-yvZ4qbkgh"
      ],
      "include_colab_link": true
    },
    "kernelspec": {
      "display_name": "Python 3",
      "language": "python",
      "name": "python3"
    },
    "language_info": {
      "codemirror_mode": {
        "name": "ipython",
        "version": 3
      },
      "file_extension": ".py",
      "mimetype": "text/x-python",
      "name": "python",
      "nbconvert_exporter": "python",
      "pygments_lexer": "ipython3",
      "version": "3.7.3"
    }
  },
  "cells": [
    {
      "cell_type": "markdown",
      "metadata": {
        "id": "view-in-github",
        "colab_type": "text"
      },
      "source": [
        "<a href=\"https://colab.research.google.com/github/lucaslzl/search_ia_p1/blob/master/Final_Report.ipynb\" target=\"_parent\"><img src=\"https://colab.research.google.com/assets/colab-badge.svg\" alt=\"Open In Colab\"/></a>"
      ]
    },
    {
      "cell_type": "markdown",
      "metadata": {
        "colab_type": "text",
        "id": "uDgcJ3xfSwxh"
      },
      "source": [
        "# **Introduction to Artificial Intelligence - MO416A**\n",
        "**UNIVERSITY OF CAMPINAS**\n",
        "\n",
        "\n",
        "\n",
        "This work was completed by the following members:\n",
        "\n",
        "\n",
        "\n",
        "*   Aissa Hadj - 265189\n",
        "*   Lucas Zanco Ladeira - 188951\n",
        "*   Matheus Ferraroni - 212142\n",
        "*   Maria Vitória Rodrigues Oliveira - 262884\n",
        "*   Oscar Ciceri - 164786\n",
        "\n",
        "The original code of the project is located on a [repository inside Github](https://github.com/lucaslzl/search_ia_p1) and the video showing the search strategies working is on [youtube](https://youtu.be/ffuthDRn6lE). \n",
        "\n"
      ]
    },
    {
      "cell_type": "code",
      "metadata": {
        "colab_type": "code",
        "id": "PyZsOrK6ovtL",
        "colab": {}
      },
      "source": [
        "from IPython.display import Image"
      ],
      "execution_count": 0,
      "outputs": []
    },
    {
      "cell_type": "markdown",
      "metadata": {
        "colab_type": "text",
        "id": "gqNsAEmhiWs1"
      },
      "source": [
        "![alt text](https://cdn02.nintendo-europe.com/media/images/10_share_images/games_15/nes_5/H2x1_NES_PacMan.jpg)"
      ]
    },
    {
      "cell_type": "markdown",
      "metadata": {
        "colab_type": "text",
        "id": "TzNJDNdBSiXy"
      },
      "source": [
        "# **I - Introduction**\n",
        "\n",
        "\n"
      ]
    },
    {
      "cell_type": "markdown",
      "metadata": {
        "colab_type": "text",
        "id": "FJnz5Eovcu6I"
      },
      "source": [
        "In this project, we choose to apply various search methods to the Pac-man game. Pac-man is a maze arcade game created in 1980 by Namco [[1]](https://en.wikipedia.org/wiki/Pac-Man). Pac-man is a character that must be placed in a maze that must collect pieces and find the exit (the goal) without being caught by moving ghosts. We set two objectives in this project. The first one aims to experiment with each one of the search methods in a practical way. Secondly, we want to determine which search algorithm, among the ones we selected, is best suited for the Pac-man game, according to the metrics and game conditions considered we will present shortly. \n",
        "\n",
        "\n",
        "The current report will be structured as follow. We will start by\n",
        "\n",
        "1. presenting how we modeled the game, then\n",
        "2. describing some of the most important components of our code implementation, \n",
        "3. giving the motivations for choosing the search methods we selected, \n",
        "4. showing the results found, and finally \n",
        "5. we will suggest which search method is best suited depending on the game conditions. \n",
        "\n",
        "We also wish to note here that the programming language for this project is Python version 3.8.\n"
      ]
    },
    {
      "cell_type": "markdown",
      "metadata": {
        "colab_type": "text",
        "id": "z1BNaG1xSq3j"
      },
      "source": [
        "# **II - Problem modeling**\n",
        "\n"
      ]
    },
    {
      "cell_type": "markdown",
      "metadata": {
        "colab_type": "text",
        "id": "2PyA-xdacGni"
      },
      "source": [
        "## **1 - General**\n",
        "\n",
        "In order to implement the Pac-man game, we decided to do the following modelization. \n",
        "\n",
        "The main goal of the problem is to find a path that leads to the goal in order to solve the maze and finish the game. The second objective of Pac-man is to collect as many points as possible while progressing inside the maze.\n",
        "\n",
        "We also defined a set of rules. First, Pac-man can move freely inside the white spaces in the maze. However, it can't go back and revisit already visited nodes. As with the original game, there are ghosts inside the map. For simplification, we make the assumption that the ghosts are static and thus can't move. The problem is therefore deterministic, we can fully determine the next state of the game given the current state as well as the action chosen by Pac-man. \n",
        "\n",
        "Under those conditions, Pac-man will reason about the solution before actually adopting it. That means that, even before the game starts, we execute any of the search methods to select a path from the starting position to the goal position. Once the search is complete, we provide a list of actions for Pac-man to follow in order to solve the maze. \n",
        "\n",
        "The other two important game conditions, whether there is a countdown (a time limit) for Pac-man to reach the goal, or Pac-man must collect the maximum number of points, will be discussed later in the report. Those two conditions will guide us in determining which search method is more appropriate by adopting either one of those constraints.\n",
        "\n",
        "Below, we briefly discuss some of the most important elements of the problem.\n",
        "\n",
        "**The maze:** In the game, there is a maze where Pac-man\n",
        "has to collect as many pieces (we use the term \"points\" in this project) as possible without being caught by one of the ghosts. The maze is defined in\n",
        "terms of a grid. The black-areas, in a Pac-Man game, are non-traversable walls. They are represented as a sequence of # symbols in the project. The pieces that Pac-man must collect in the maze are represented as \"P\" letters in our mazes. We also note that, under our game conditions, the ghosts present in the mazes are frozen. This means that they can't move and, for simplicity, we decided to replace them with walls. Pac-man can't go through them that way. Below is an example of a representation of a maze. When the game begins, Pac-man starts at the position described with the \"S\" letter and must finish the game by reaching the goal position (\"G\" letter in the maze). Below, we give more details about the implementation of the maze inside the file \"map.py\". We also wish to note that, in the project, we use the term \"map\" to designate the maze.\n",
        "\n",
        "![alt text](https://github.com/lucaslzl/search_ia_p1/blob/master/maps/example%20of%20maze.png?raw=true)\n",
        "\n",
        "\n",
        "**Actions:** In this game, there are in total 4 possible actions that Pac-man can choose: left, right, down, or up in that order. Depending on the position of Pac-man in the maze, there might be fewer actions allowed. For instance, if Pac-man reaches a wall, only sideway movements are allowed. \n",
        "\n",
        "**Nodes:** The nodes are composed by a state, a parent node, a path cost, a depth and a list of available actions. The node can be used to reconstruct the path used to achieve the goal and expand a node using the available actions.\n",
        "\n",
        "**State:** The state is composed by the model of the scenario, points collected, points left, cost and information about the position of the actual state, start, goal, points and walls. The actual position, goal, start and points are represented as a pair of two coordinates (i, j) representing its row and column inside the map. The collected points is an integer and points left is a list of coordinates of these points. The state also control the positions on the a map that have never been visited and positions that have been already passed. The state is also responsable for check if the goal position has been achieved or not. The state check if a position on the map as already been visited, if it has the state does not return a valid action that allow a next state to go in that position, and this is used to avoid infinty loops.\n",
        "\n",
        "**Note on the nodes explored:** During the execution of the search strategies it is possible to arrive at the same location on the map using different paths. Some strategies can used an approach to avoid expand nodes that have similar states, avoiding waste of memory and time.\n",
        "\n",
        "Finally, in order to implement and evaluate the search methods for the problem described, we use the AIMA function library [2].\n"
      ]
    },
    {
      "cell_type": "markdown",
      "metadata": {
        "colab_type": "text",
        "id": "qEvFcd5jdROY"
      },
      "source": [
        "## **2 - Maps**\n",
        "\n",
        "\n"
      ]
    },
    {
      "cell_type": "markdown",
      "metadata": {
        "colab_type": "text",
        "id": "pMPJUgKIdh1b"
      },
      "source": [
        "The map.py class has maze interaction functions, which will be described below. First, the init function receives the map file content, initializes the variables, and calls the validation function:"
      ]
    },
    {
      "cell_type": "code",
      "metadata": {
        "colab_type": "code",
        "id": "p20xvDtydjDu",
        "colab": {}
      },
      "source": [
        "def __init__(self, map_text=None):\n",
        "        self.map = None\n",
        "        self.start = None\n",
        "        self.goal = None\n",
        "        self.pos = None\n",
        "        self.points_pos = []\n",
        "        self.points = 0\n",
        "        self.cost_till_here = 0\n",
        "        self.hashed = None\n",
        "\n",
        "        if map_text!=None:\n",
        "            self.validateMap(map_text)"
      ],
      "execution_count": 0,
      "outputs": []
    },
    {
      "cell_type": "markdown",
      "metadata": {
        "colab_type": "text",
        "id": "PhyHYSKJdnml"
      },
      "source": [
        "The validate function verifies if the maze is valid, with walls on the sides, all the lines and colums with the same size and if it contains a start and a goal. Then, it saves the Goal and Point position in the map, and expresses these locations by 3 and 1, respectively. It sets up a \"0\" value where there is a barrier and \"1\" value where there is a space. Besides that, the start point (S) is described as \"2\".\n",
        "\n",
        "It is important to notice that the walls and free positions on the maze are saved as matrix, the current position, start position and goal are saved as a set of coordinates and the points on the maze as a list of coordinates.\n",
        "\n",
        "The script below exhibits this:"
      ]
    },
    {
      "cell_type": "code",
      "metadata": {
        "colab_type": "code",
        "id": "NFeYyryndp0a",
        "colab": {}
      },
      "source": [
        "def validateMap(self, m):\n",
        "        m = m.split(\"\\n\")\n",
        "\n",
        "        for i in range(1,len(m),1):\n",
        "            if len(m[i])!=len(m[0]):\n",
        "                raise Exception(\"Map lines have different sizes.\")\n",
        "\n",
        "        i = 0\n",
        "        j = 0\n",
        "\n",
        "        self.map = []\n",
        "        for line in m:\n",
        "            j=0\n",
        "            self.map.append([])\n",
        "            for c in line:\n",
        "                if ((i==0 or i==len(m)-1) and c!=\"#\") or ((j==0 or j==len(m[i])-1) and c!=\"#\"):\n",
        "                    raise Exception(\"Maze borders must be '#'.\")\n",
        "                if c == \"#\":\n",
        "                    self.map[i].append(0)\n",
        "                elif c == \" \":\n",
        "                    self.map[i].append(1)\n",
        "                elif c.upper() == \"S\":\n",
        "                    if self.start!=None:\n",
        "                        raise Exception(\"Only one Start is allowed.\")\n",
        "                    self.map[i].append(2)\n",
        "                    self.start = [j,i]\n",
        "                    self.pos = [j,i]\n",
        "                elif c.upper() == \"G\":\n",
        "                    if self.goal!=None:\n",
        "                        raise Exception(\"Only one Goal is allowed.\")\n",
        "                    self.map[i].append(3)\n",
        "                    self.goal = [j,i]\n",
        "                elif c.upper() == \"P\":\n",
        "                    self.map[i].append(1)\n",
        "                    self.points_pos.append([j,i])\n",
        "                else:\n",
        "                    raise Exception(\"Invalid map char: \"+c)\n",
        "\n",
        "                j += 1\n",
        "            i += 1\n",
        "\n",
        "        if self.start==None or self.goal==None:\n",
        "            raise Exception(\"Start and Goal must be provided\")"
      ],
      "execution_count": 0,
      "outputs": []
    },
    {
      "cell_type": "markdown",
      "metadata": {
        "colab_type": "text",
        "id": "sewcDEzMdur1"
      },
      "source": [
        "Then, all the positions on the map are shown as integers as displayed below:"
      ]
    },
    {
      "cell_type": "code",
      "metadata": {
        "colab_type": "code",
        "id": "k1qPyMfedxHP",
        "colab": {}
      },
      "source": [
        "00000000000\n",
        "01111111110\n",
        "01000100010\n",
        "01011111010\n",
        "01010001010\n",
        "01011311010\n",
        "01000000010\n",
        "01111211110\n",
        "00000000000"
      ],
      "execution_count": 0,
      "outputs": []
    },
    {
      "cell_type": "markdown",
      "metadata": {
        "colab_type": "text",
        "id": "SVt-6zsQ-6Nz"
      },
      "source": [
        "There are also functions used to print the maze in a more human way, allowing the users to easily identify what is happening. This can be seen below:"
      ]
    },
    {
      "cell_type": "code",
      "metadata": {
        "colab_type": "code",
        "id": "Y_156tk-d2KD",
        "colab": {}
      },
      "source": [
        "def printVisual(self):\n",
        "        for i in range(len(self.map)):\n",
        "            for j in range(len(self.map[i])):\n",
        "                c = None\n",
        "                if self.map[i][j]==0:\n",
        "                    c = \"#\"\n",
        "                elif self.map[i][j]==1:\n",
        "                    c = \" \"\n",
        "                elif self.map[i][j]==2:\n",
        "                    c = \"S\"\n",
        "                elif self.map[i][j]==3:\n",
        "                    c = \"G\"\n",
        "                elif self.map[i][j]==4:\n",
        "                    c = \"$\"\n",
        "\n",
        "                for p in self.getPointsLeft():\n",
        "                    if j==p[0] and i==p[1]:\n",
        "                        c = \"P\"\n",
        "\n",
        "                if i==self.pos[1] and j==self.pos[0]:\n",
        "                    if self.pos!=self.start:\n",
        "                        c = \"X\"\n",
        "                print(c,end=\"\")\n",
        "            print(\"\")"
      ],
      "execution_count": 0,
      "outputs": []
    },
    {
      "cell_type": "markdown",
      "metadata": {
        "colab_type": "text",
        "id": "TzbEjUGtdzQ1"
      },
      "source": [
        "In the code below, it was verified the options of actions, depending on the self-position. If on the left/right/up/down there is no barrier and it was not a covered space, then it can be considered as a movement option.\n",
        "\n",
        "The cgetActions function is used to get the valid actions to a state. It was designed to be as fast as possible and easy to understand. The algorithm just gets the current position and checks if an adjacent position is a wall or has been already visited. If these two statements are false, the action that leads to that position is valid. Otherwise the state does not return this position."
      ]
    },
    {
      "cell_type": "code",
      "metadata": {
        "colab_type": "code",
        "id": "2P9am7OVd9n_",
        "colab": {}
      },
      "source": [
        "def getActions(self):\n",
        "        ret1 = []\n",
        "        ret2 = []        \n",
        "        \n",
        "        # LEFT\n",
        "        val = self.map[self.pos[1]][self.pos[0]-1]\n",
        "        if val!=0 and val!=4:\n",
        "            ret1.append(\"E\")\n",
        "            ret2.append(1)\n",
        "        \n",
        "        # RIGHT\n",
        "        val = self.map[self.pos[1]][self.pos[0]+1]\n",
        "        if val!=0 and val!=4:\n",
        "            ret1.append(\"D\")\n",
        "            ret2.append(2)\n",
        "        # UP\n",
        "        val = self.map[self.pos[1]+1][self.pos[0]]\n",
        "        if val!=0 and val!=4:\n",
        "            ret1.append(\"B\")\n",
        "            ret2.append(3)\n",
        "\n",
        "        # DOWN\n",
        "        val = self.map[self.pos[1]-1][self.pos[0]]\n",
        "        if val!=0 and val!=4:\n",
        "            ret1.append(\"C\")\n",
        "            ret2.append(4)\n",
        "\n",
        "        return ret1, ret2"
      ],
      "execution_count": 0,
      "outputs": []
    },
    {
      "cell_type": "markdown",
      "metadata": {
        "colab_type": "text",
        "id": "ucPAVay5mRY4"
      },
      "source": [
        "The act function alters the state by applying a valid action. The first step of the act is to check if the problem is solved. If it is already solved nothing is done. If it is not solved yet, the function verifies whether the next position is available. Then, the current position is marked with the number \"4\" (to show that this position has been visited), and the next position is marked as self-position. Besides that, the collectPoint function is called."
      ]
    },
    {
      "cell_type": "code",
      "metadata": {
        "colab_type": "code",
        "id": "pQqB_2Q5mT4O",
        "colab": {}
      },
      "source": [
        "def act(self, action):\n",
        "\n",
        "    if self.solved():\n",
        "        print(\"Maze already completed.\")\n",
        "        return False\n",
        "\n",
        "    if action==1 or action==\"E\": #moving left\n",
        "        val = self.map[self.pos[1]][self.pos[0]-1]\n",
        "        if val==0 or val==4: #check if is blocked or already passed\n",
        "            return False\n",
        "        self.map[self.pos[1]][self.pos[0]] = 4 # mark as passed\n",
        "        self.pos = [self.pos[0]-1,self.pos[1]] # update position\n",
        "        self.collectPoint(self.pos[1],self.pos[0])\n",
        "        return True\n",
        "    elif action==2 or action==\"D\": #moving right\n",
        "        val = self.map[self.pos[1]][self.pos[0]+1]\n",
        "        if val==0 or val==4:\n",
        "            return False\n",
        "        self.map[self.pos[1]][self.pos[0]] = 4\n",
        "        self.pos = [self.pos[0]+1,self.pos[1]]\n",
        "        self.collectPoint(self.pos[1],self.pos[0])\n",
        "        return True\n",
        "    elif action==3 or action==\"B\": #moving down\n",
        "        val = self.map[self.pos[1]+1][self.pos[0]]\n",
        "        if val==0 or val==4:\n",
        "            return False\n",
        "        self.map[self.pos[1]][self.pos[0]] = 4\n",
        "        self.pos = [self.pos[0],self.pos[1]+1]\n",
        "        self.collectPoint(self.pos[1],self.pos[0])\n",
        "        return True\n",
        "    elif action==4 or action==\"C\": #moving up\n",
        "        val = self.map[self.pos[1]-1][self.pos[0]]\n",
        "        if val==0 or val==4:\n",
        "            return False\n",
        "        self.map[self.pos[1]][self.pos[0]] = 4\n",
        "        self.pos = [self.pos[0],self.pos[1]-1]\n",
        "        self.collectPoint(self.pos[1],self.pos[0])\n",
        "        return True\n",
        "\n",
        "    raise Exception(\"Action unknown\")"
      ],
      "execution_count": 0,
      "outputs": []
    },
    {
      "cell_type": "markdown",
      "metadata": {
        "colab_type": "text",
        "id": "HdXpeglEmiU6"
      },
      "source": [
        "The collectpoint function verifies if the self-position is a Point (P) using the points_pos matrix. If it is, the state increments its points counter."
      ]
    },
    {
      "cell_type": "code",
      "metadata": {
        "colab_type": "code",
        "id": "7zYEaJhbmk3n",
        "colab": {}
      },
      "source": [
        "def collectPoint(self, i, j):\n",
        "    ini = len(self.points_pos)\n",
        "    self.points_pos = [a for a in self.points_pos if not(a[0]==j and a[1]==i)]\n",
        "    if len(self.points_pos)!=ini:\n",
        "        self.points += 1"
      ],
      "execution_count": 0,
      "outputs": []
    },
    {
      "cell_type": "markdown",
      "metadata": {
        "colab_type": "text",
        "id": "jSvpUOgBmnA4"
      },
      "source": [
        "The sim function returns a map object with the action applied. This is done in order to create new states faster, by copying the current state and just applying an action to it."
      ]
    },
    {
      "cell_type": "code",
      "metadata": {
        "colab_type": "code",
        "id": "XPTqSjKqmoeF",
        "colab": {}
      },
      "source": [
        "def sim(self, action): \n",
        "    ret = self.copy()\n",
        "    ret.act(action)\n",
        "    ret.cost_till_here = self.cost_till_here+1\n",
        "    ret.hashed = None\n",
        "    return ret"
      ],
      "execution_count": 0,
      "outputs": []
    },
    {
      "cell_type": "markdown",
      "metadata": {
        "colab_type": "text",
        "id": "G_Hdxl_9mrXC"
      },
      "source": [
        "Finally, the solved function checks whether the self-position is the Goal (G)."
      ]
    },
    {
      "cell_type": "code",
      "metadata": {
        "colab_type": "code",
        "id": "G8ON4VgImtVW",
        "colab": {}
      },
      "source": [
        "def solved(self):\n",
        "    return self.pos[0]==self.goal[0] and self.pos[1]==self.goal[1]"
      ],
      "execution_count": 0,
      "outputs": []
    },
    {
      "cell_type": "markdown",
      "metadata": {
        "colab_type": "text",
        "id": "lqicntizoQcO"
      },
      "source": [
        "## **3 - Methodology for the search comparison**\n",
        "\n",
        "**Maps:** To help us decide which search method is optimal in the Pac-man game, we will experiment with various conditions. We designed 9 different maps, classified under two groups. The first group is composed of 4 maps: map4, map10, map11, and map12. Those are empty maps. Meaning they contain no walls inside them. The second group is composed of 5 maps containing walls strategically placed to test the effectiveness of the approaches choosen.\n",
        "The maps are of different sizes in length and width to see the effect of the maze size on each search method.\n",
        "\n",
        "Besides, the maps contain 10 collectable points each. Some of the points may not be reachable following the rules applied in this project.\n",
        "\n",
        "**Metrics:** The algorithms have been executed 10 times on each map in order to determine a good confidence interval. To compare the different search methods, we will measure the following metrics:\n",
        "\n",
        "\n",
        "1. Time (sec, seconds): it's the execution time from start to finish of each search method to solve the maze\n",
        "2. Nodes: it's the number of nodes generated by each search method\n",
        "3. Expanded nodes: it's the number of nodes each search method explored to find a solution\n",
        "4. Nodes per second (Nodes/sec): Number of nodes generated by second\n",
        "5. Expanded nodes per second (Expanded nodes/sec): Number of nodes explored by second\n",
        "6. Action: it's the total number of actions Pac-man has to take to go from the initial position to the goal\n",
        "7. Points: it's the number of points Pac-man collected in its path to the goal\n",
        "\n",
        "The metric \"number of nodes\" will help us measure the memory used by each search method to find a solution. A high number of generated nodes means a high use of memory.\n",
        "\n",
        "The metric \"nodes explored per second\" can be used to determine how fast a search method selects a node to explore. A high number of nodes explored per second means that the search method can check more nodes in less time. This can change drastically if the search method is performing some kind of ordering to select the next node to explore.\n",
        "\n",
        "\n",
        "With all those metrics measured during the simulations, we would then be able to compare the performance of each search method under different hypotheses.\n",
        "\n",
        "\n",
        "We run the independent experiments all at once (using the script located inside \"execute.sh\") inside a single machine. It's a MacBook Air containing a 1.6 GHz Intel Core I5, and 8 Gb of RAM. To prevent any skewing of the results, we closed all other applications, so that no other script was running in parallel while conducting the experiments."
      ]
    },
    {
      "cell_type": "markdown",
      "metadata": {
        "colab_type": "text",
        "id": "ywGTkmlQQ9Yd"
      },
      "source": [
        "# **III - Search Methods Considered**\n",
        "\n",
        "\n",
        "\n",
        "\n"
      ]
    },
    {
      "cell_type": "markdown",
      "metadata": {
        "colab_type": "text",
        "id": "pT9af0cxb8qS"
      },
      "source": [
        "In this problem, we selected the following search methods: \n",
        "\n",
        "\n",
        "\n",
        "1. Breadth-first search\n",
        "2. Depth-first search\n",
        "3. A*1\n",
        "4. A*2\n",
        "5. Local beam search\n",
        "6. Hill climbing\n",
        "\n",
        "Below we describe each one of them, explain why they were chosen for this project, as well as showing the script implemented in Python. "
      ]
    },
    {
      "cell_type": "markdown",
      "metadata": {
        "colab_type": "text",
        "id": "6D7aQm3iVvjO"
      },
      "source": [
        "## **1 - Breadth-first search**\n",
        "\n",
        "For the performance measures, we consider $b$ the average number of successors and $d$ shallowest depth of the solution.\n",
        "\n",
        "Breadth-first Search\n",
        "This strategy has the capability to search in a graph-like (graph or tree) data structure. The distance from a node to the starting node is used to explore the data. The key idea is that it may not explore a node of a farther distance without exploring every node from the same distance. A queue structure is usually utilized as the First In First Out (FIFO) rule is followed.\n",
        "\n",
        "**Performance measures:**\n",
        "\n",
        "**Completeness**: Yes, this strategy is classified as complete as it finds the goal if it exists.\n",
        "\n",
        "**Optimization:** Yes, only if all the paths have the same cost.\n",
        "\n",
        "**Time complexity:** $ O(b^d) $\n",
        "\n",
        "**Memory complexity:** $ O(b^d) $\n",
        "\n",
        "Below we provide the implementation of the breadth-first search in Python."
      ]
    },
    {
      "cell_type": "code",
      "metadata": {
        "colab_type": "code",
        "id": "zzXEXl_uWgMw",
        "colab": {}
      },
      "source": [
        "def BreadthFirst(problem):\n",
        "\n",
        "    checkeds = []\n",
        "    frontier = deque([Node(problem.initial)])\n",
        "\n",
        "    while frontier:\n",
        "\n",
        "        node = frontier.popleft()\n",
        "\n",
        "        if problem.goal_test(node.state):\n",
        "            return node\n",
        "\n",
        "        frontier.extend(node.expand(problem))\n",
        "\n",
        "    return None"
      ],
      "execution_count": 0,
      "outputs": []
    },
    {
      "cell_type": "markdown",
      "metadata": {
        "colab_type": "text",
        "id": "KvvgPZYxWo4-"
      },
      "source": [
        "## **2 - Depth-first search**\n",
        "\n",
        "This strategy has the capability to search in a graph-like data structure. The distance from a node to the starting node is used to explore the data. The key idea is that it will explore a node with a farther distance without exploring any other node from the same distance if possible. A stack structure is usually utilized as the Last In First Out (LIFO) rule is followed.\n",
        "\n",
        "**Performance measures:**\n",
        "\n",
        "**Completeness:** No, it may create an infinite loop if a branch has no end.\n",
        "\n",
        "**Optimization:** No, there is no guarantee that will find the best solution even if all paths have the same cost.\n",
        "\n",
        "**Time complexity:** $ O(b^d) $\n",
        "\n",
        "**Memory complexity:** $ O(bd) $\n",
        "\n",
        "Below we provide the implementation of the depth-first search in Python."
      ]
    },
    {
      "cell_type": "code",
      "metadata": {
        "colab_type": "code",
        "id": "G6rLovuTW58_",
        "colab": {}
      },
      "source": [
        "def DepthFirst(problem):\n",
        "\n",
        "    frontier = [Node(problem.initial)]\n",
        "\n",
        "    while frontier:\n",
        "\n",
        "        node = frontier.pop()\n",
        "\n",
        "        if problem.goal_test(node.state):\n",
        "            return node\n",
        "\n",
        "        frontier.extend(node.expand(problem))\n",
        "\n",
        "    return None"
      ],
      "execution_count": 0,
      "outputs": []
    },
    {
      "cell_type": "markdown",
      "metadata": {
        "colab_type": "text",
        "id": "xCBtPi4NW9Za"
      },
      "source": [
        "## **3 - A-Star**\n",
        "\n",
        "### **Strategy**\n",
        "\n",
        "This solution employs the best-first graph search or greedy search, thus the node expansions are given by the lowest scores first policy.\n",
        "\n",
        "This policy sorts the nodes, employs a mechanism that minimizes the function f(n). For example, the breadth-first search occurs when f(n)=node.depth.\n",
        "\n",
        "Moreover, the function f(n) \"memorizes\" the nodes previously computed, in order to examine the f values and recover the path.\n",
        "\n",
        "The following code shows the implementation of the best-first graph search:"
      ]
    },
    {
      "cell_type": "code",
      "metadata": {
        "colab_type": "code",
        "id": "ChF_TzYkXW9i",
        "colab": {}
      },
      "source": [
        "def best_first_graph_search(problem, f, display=False):\n",
        "    # Nodes in cache\n",
        "    f = memoize(f, 'f') \n",
        "    node = Node(problem.initial)\n",
        "    # Priority queue giving by the lowest score in f(n)=g(n)+h(n)\n",
        "    frontier = PriorityQueue('min', f)\n",
        "    # Initial node\n",
        "    frontier.append(node)\n",
        "    explored = set()\n",
        "    # While node goal different goal state\n",
        "    while frontier:\n",
        "        node = frontier.pop()\n",
        "        # If node goal equal node state, return node\n",
        "        if problem.goal_test(node.state):\n",
        "            if display:\n",
        "                print(len(explored), \"paths have been expanded and\", len(frontier), \"paths remain in the frontier\")\n",
        "            return node\n",
        "        # else, add node to the priority queue\n",
        "        explored.add(node.state)\n",
        "        for child in node.expand(problem):\n",
        "            if child.state not in explored and child not in frontier:\n",
        "                frontier.append(child)\n",
        "            elif child in frontier:\n",
        "                if f(child) < frontier[child]:\n",
        "                    del frontier[child]\n",
        "                    frontier.append(child)\n",
        "    return None\n",
        "\n",
        "def Astar(problem, display=False):\n",
        "    h = None\n",
        "    h = memoize(h or problem.h, 'h')\n",
        "    fn = n.path_cost + h(n)\n",
        "    \n",
        "    return best_first_graph_search(problem, lambda n: fn, display)"
      ],
      "execution_count": 0,
      "outputs": []
    },
    {
      "cell_type": "markdown",
      "metadata": {
        "colab_type": "text",
        "id": "AQGT8Ds4Xdlc"
      },
      "source": [
        "The A-Star strategy tries to expand the node, which is closest to the goal and also considers the cost to reach that node. This expansion policy means that the f function depends on two values.\n",
        "\n",
        "Thus, the evaluation of the nodes is done employing the function f(n):\n",
        "\n",
        "f(n) = g(n) + h(n)\n",
        "\n",
        "- g(n): cost to reach each node\n",
        "- h(n): cost to get from the node to the goal\n",
        "\n",
        "In this project, the function g(n) is equal to the path cost.\n",
        "\n",
        "The path cost of this solution increases by a value of 1 when the state changes by an action.\n",
        "\n",
        "Thus, the cost is uniform for every step in the path, since all steps have the same value."
      ]
    },
    {
      "cell_type": "code",
      "metadata": {
        "colab_type": "code",
        "id": "7BF0yO4EXgoZ",
        "colab": {}
      },
      "source": [
        "def path_cost(self, c, state1, action, state2):\n",
        "        return c + 1"
      ],
      "execution_count": 0,
      "outputs": []
    },
    {
      "cell_type": "markdown",
      "metadata": {
        "colab_type": "text",
        "id": "RLPYftpCXhXn"
      },
      "source": [
        "Also, the node evaluation is given by a heuristic h(n), which assumes that the node closest to the goal is the fastest solution.\n",
        "\n",
        "The following sections show the two heuristics employed in this project."
      ]
    },
    {
      "cell_type": "markdown",
      "metadata": {
        "colab_type": "text",
        "id": "1QmUmQPsXkDI"
      },
      "source": [
        "### **A-Star 1**\n",
        "\n",
        "The A*1 heuristic employs the Euclidean distance, which calculates the straight line distance in a Cartesian plane.\n",
        "\n",
        "Thus, h1(n) is calculated as:"
      ]
    },
    {
      "cell_type": "code",
      "metadata": {
        "colab_type": "code",
        "id": "35PiawVDYGxa",
        "colab": {}
      },
      "source": [
        "def h1(self, node):\n",
        "    return node.state.getDistance()\n",
        "    \n",
        "def getDistance(self):\n",
        "    v = distance.euclidean(self.pos, self.goal)\n",
        "    return v"
      ],
      "execution_count": 0,
      "outputs": []
    },
    {
      "cell_type": "markdown",
      "metadata": {
        "colab_type": "text",
        "id": "GzT_pI1bYKOQ"
      },
      "source": [
        "The A Search is complete and optimal when the function h(n) satisfies the following conditions:\n",
        "\n",
        "Consistent heuristic:$$h(n) \\leq  c(n, a, n') + h(n')$$"
      ]
    },
    {
      "cell_type": "code",
      "metadata": {
        "colab_type": "code",
        "id": "mlz16YxJYNYw",
        "outputId": "8ac69ff0-eb0f-4cf4-f7c3-3c8ea2272a5c",
        "colab": {
          "base_uri": "https://localhost:8080/",
          "height": 217
        }
      },
      "source": [
        "Image(\"https://raw.githubusercontent.com/lucaslzl/search_ia_p1/master/img/consistent.png\", width=500, height=200)"
      ],
      "execution_count": 0,
      "outputs": [
        {
          "output_type": "execute_result",
          "data": {
            "image/png": "[encoded data removed]",
            "text/plain": [
              "<IPython.core.display.Image object>"
            ]
          },
          "metadata": {
            "tags": [],
            "image/png": {
              "height": 200,
              "width": 500
            }
          },
          "execution_count": 10
        }
      ]
    },
    {
      "cell_type": "markdown",
      "metadata": {
        "colab_type": "text",
        "id": "9IVQoGZCYQgU"
      },
      "source": [
        "In this case, the steps between the actual free space and the goal space can never be longer than the Euclidean distance.\n",
        "\n",
        "If\n",
        "\n",
        "- h(n) = Euclidean distance from node n to goal g\n",
        "\n",
        "- h(n') : Euclidean distance from node n' to goal g\n",
        "\n",
        "- c(n, a, n') = 1\n",
        "\n",
        "This heuristic, which employs the Euclidean distance, is a consistent heuristic due to in the best case when the actions to go from n to n' decreases the path in 1 step. We have that the c(n, a, n') + h(n') is equal to h(n)."
      ]
    },
    {
      "cell_type": "markdown",
      "metadata": {
        "colab_type": "text",
        "id": "pj4LHnTGYTx6"
      },
      "source": [
        "### **A-Star 2**\n",
        "\n",
        "The A*2 heuristic employs the Euclidean distance combined with a distance to reach a near point.\n",
        "\n",
        "Thus, h2(n) is calculated as:\n",
        "\n",
        "If\n",
        "\n",
        "- a = Euclidean distance from node n to goal g\n",
        "- b = Euclidean distance from node n to the nearest point p\n",
        "- c = Euclidean distance that point p to the goal g\n",
        "- v = b + c\n",
        "\n",
        "As shown the following figure:"
      ]
    },
    {
      "cell_type": "code",
      "metadata": {
        "colab_type": "code",
        "id": "l7uFeaplYpr0",
        "outputId": "d59dc136-befb-4e81-b7cc-2e8eb1d4eef9",
        "colab": {
          "base_uri": "https://localhost:8080/",
          "height": 317
        }
      },
      "source": [
        "Image(\"https://raw.githubusercontent.com/lucaslzl/search_ia_p1/master/img/h2.png\", width=300, height=300)"
      ],
      "execution_count": 0,
      "outputs": [
        {
          "output_type": "execute_result",
          "data": {
            "image/png": "[encoded data removed]",
            "text/plain": [
              "<IPython.core.display.Image object>"
            ]
          },
          "metadata": {
            "tags": [],
            "image/png": {
              "height": 300,
              "width": 300
            }
          },
          "execution_count": 11
        }
      ]
    },
    {
      "cell_type": "markdown",
      "metadata": {
        "colab_type": "text",
        "id": "HJxFURIBY8M8"
      },
      "source": [
        "The heuristic considers v, as the Euclidian distance to go from the node n to the point and after to the goal. These distances satisfy the following inequality:\n",
        "\n",
        "$$ a \\leq b + c$$ \n",
        "$$ a \\leq v $$\n",
        "\n",
        "However, the distance c is mapped to a smaller value equal to a, with the aim that the node considers the point and that the heuristic is consistent.\n",
        "\n",
        "The steps to calculate h2 are explained below.\n",
        "\n",
        "Find the distance from the node n to the nearest point p (distance b). Subsequently, calculate the distance from that point p to the goal g (distance c).\n",
        "If there are no more points on the map, it employs the Euclidian distance between the node n and the goal g (distance a), equal to h1.\n",
        "Calculate x as the division between a and v. The value of x is a number between 0 to 1 since a is always less or equal to c. Thus, when the node is closer to the point, the x value will approach 1.\n",
        "\n",
        "$$ x = \\frac{a}{v} = \\frac{a}{b+c}: 0 < x \\leq 1 $$\n",
        "\n",
        "Calculate the complement of x a in order to penalize the distance c. Thus a higher the distance to c, the value of x will approach 1.\n",
        "$$ x' = 1 - x $$\n",
        "Finally, we consider x value as a percentage of c. The heuristic is consistent the calculated value need to be higher than c; then we add c to the percentage previously calculated as:\n",
        "$$ h_2 = c + c\\cdot(1-x): c < h_2 < 2 \\cdot c$$"
      ]
    },
    {
      "cell_type": "code",
      "metadata": {
        "colab_type": "code",
        "id": "tvaii9AcY-ZW",
        "colab": {}
      },
      "source": [
        "def h2(self, node):\n",
        "    return node.state.getDistancePoints()\n",
        "\n",
        "def getDistancePoints(self):\n",
        "    points = self.getPointsLeft()\n",
        "    # print(points)\n",
        "    dis_Pos_Goal = distance.euclidean(self.pos, self.goal)\n",
        "    dis_Pos_Point = distance.euclidean(self.pos, self.goal)\n",
        "    dis_Point_Goal = 0\n",
        "    valeu = 0\n",
        "    x = 0.0\n",
        "\n",
        "    if(len(points)==0):\n",
        "        valeu =  dis_Pos_Goal\n",
        "    else:\n",
        "        # Find the distance of the closest point\n",
        "        for ip in points:\n",
        "            if distance.euclidean(self.pos, ip) < dis_Pos_Point:\n",
        "                dis_Pos_Point = distance.euclidean(self.pos, ip)\n",
        "                dis_Point_Goal = distance.euclidean(ip, self.goal)\n",
        "        \n",
        "        # Calculate v\n",
        "        v = dis_Pos_Point + dis_Point_Goal\n",
        "        if dis_Pos_Point == 1:\n",
        "            v=0\n",
        "        if(v>0):\n",
        "            x = dis_Pos_Goal/v\n",
        "        else:\n",
        "            x = 1\n",
        "        # Calculate h2\n",
        "        valeu = dis_Pos_Goal + dis_Pos_Goal*(1-x)\n",
        "    return valeu"
      ],
      "execution_count": 0,
      "outputs": []
    },
    {
      "cell_type": "markdown",
      "metadata": {
        "colab_type": "text",
        "id": "Xe1hkEvOZgT8"
      },
      "source": [
        "## **5 - Local Beam Search**\n",
        "\n",
        "One of the methods adopted to solve the Pac-man game is the local beam search. It's an algorithm that keeps track of k states. \n",
        "\n",
        "The main objective is to find the goal, and, if the goal isn't found yet, to collect as many points along the path to the goal as possible. \n",
        "\n",
        "Since the local beam search grabs k good neighbor states without thinking ahead about where to go next, this algorithm is greedy. In fact, it tries to increase the objective function defined as the number of collected points (the optimization problem). Under this method, the path to the goal is irrelevant. \n",
        "\n",
        "The way the search method works is that it selects the k best successors according to the number of points they contain. During the search, only k states are kept in memory every time we expand new nodes. This method is particularly suitable for devices with very limited memory. \n",
        "\n",
        "If collecting as many points as possible is important, the local beam search method is an appropriate algorithm for this problem.\n",
        "\n",
        "The steps for this algorithm are the following:\n",
        "\n",
        "\n",
        "1.   We begin with k randomly generated states,\n",
        "2.   All the successors of all the k states are generated,\n",
        "1.   If any of the successors is the goal, the algorithm stops\n",
        "2.   Else we select the k best successors from the complete list of successors ranked by the number of points each node contains, and \n",
        "1.   We repeat the process from step 2\n",
        "\n",
        "An important hypothesis we make is that before starting the local beam search, we have no detail about the map, its size, structure, or any other information that could give a clue about the maze. \n",
        "\n",
        "Also, since the number of possibilities can quickly get high as we progress inside the map, we set a value of 10 for the width. We select the 10 best successors at each time during the search. We choose k = 10 for two reasons. First, we select the best nodes from where to collect points, while having a reasonable chance of finding the goal. If after the search ends, it doesn't find a solution, we increase the value of k by 5 and start a new search from the initial position \"S\". This process continues until the search either finds a solution or k reaches the maximum value of 5010 (at this value, there is reasonable confidence we explored the entire map without finding the goal, provided the map is dense and hasn't a too large size). \n",
        "\n",
        "\n",
        "Again, the local beam search is selected, in this problem, to maximize the objective function which is the number of points collected. By design, during each step, the search selects the k best immediate neighbors of the k current states. The ranking is made according to the number of points each successor contains. Thus, theoretically, we expect that the local beam search will give good results, among all the search methods implemented in the problem, if we consider only the number of points collected.\n",
        "\n",
        "From another perspective, if we imagine a map with points concentrated in a region of the map opposite to the goal, then the search will naturally progress to the region containing those points before heading back to the goal state. As a result, the solution path, according to the local beam search, would end up being longer than the one found by other methods (especially information searches using the Euclidean distance from the current node to the goal state).\n",
        "\n",
        "Since only k nodes are expanded when exploring the map, the path to the goal could be discarded (the unique path to the goal contains no points to collect for instance). Thus, there is no guarantee to find a solution with a given value of k, and therefore the local beam search isn't complete. To solve that issue in the context of the current problem, we start a new search by increasing the value of k until either all of the nodes are explored or we reach a solution. By increasing each time the value of k, we increase the number of successors kept in memory at each step of the process. Thus, the local beam search becomes more and more like the breadth-first search method.  \n",
        "\n",
        "\n",
        "**Completeness:** No, this strategy doesn't guarantee it will find a solution, if a solution exists.\n",
        "\n",
        "**Optimization:** No, this strategy doesn't guarantee it will find the optimal solution (finding the path that collects the maximum number of points possible under the game conditions)\n",
        "\n",
        "**Time complexity:**  $ O(k*d) $ \n",
        "\n",
        "**Memory complexity:**  $ O(k*d) $\n",
        "\n",
        "Below we provide the implementation of the local beam search in Python."
      ]
    },
    {
      "cell_type": "code",
      "metadata": {
        "colab_type": "code",
        "id": "Gbt_e4KWZprS",
        "colab": {}
      },
      "source": [
        "def local_beam_search(problem, k_width):\n",
        "    \"\"\"\n",
        "    From the initial node, Select randomly k states,\n",
        "    From all the successors, select the k neighbors with highest value,\n",
        "    Stopping when goal is found or no more successor\n",
        "    Else repeat process\n",
        "    \"\"\"\n",
        "    current = Node(problem.initial)\n",
        "\n",
        "    if k_width >= len(current.expand(problem)):\n",
        "      k_successors = current.expand(problem)\n",
        "    else:\n",
        "      k_successors = random.sample(current.expand(problem), k=k_width)\n",
        "\n",
        "    #check if there are successors to the k successors selected\n",
        "    if not k_successors:\n",
        "        return None\n",
        "\n",
        "    explored = set()\n",
        "    goal_found = False\n",
        "\n",
        "    while goal_found == False:\n",
        "      all_successors = []\n",
        "\n",
        "      #Generate the successors of all the k best states\n",
        "      for successor in k_successors:\n",
        "        children = successor.expand(problem)\n",
        "        for child in children:\n",
        "          if child.state not in explored and child not in all_successors:\n",
        "            all_successors.append(child)\n",
        "\n",
        "      #if there is no successor, we stop\n",
        "      if not all_successors:\n",
        "        #print(\"No solution found with width =\", k_width)\n",
        "        break\n",
        "\n",
        "      #check if any successor is a goal\n",
        "      for successor in all_successors:\n",
        "        if problem.goal_test(successor.state):\n",
        "          goal_found = True\n",
        "          #print(\"Solution found for width =\", k_width)\n",
        "          return successor\n",
        "\n",
        "      #Select the k best successors\n",
        "      all_successors.sort(key=lambda node: node.state.getPoints(), reverse=True)\n",
        "      k_successors = all_successors[:k_width]\n",
        "\n",
        "      #Mark the k successors as explored, to avoid exploring same nodes\n",
        "      for successor in k_successors:\n",
        "        explored.add(successor.state)\n",
        "\n",
        "    return None"
      ],
      "execution_count": 0,
      "outputs": []
    },
    {
      "cell_type": "markdown",
      "metadata": {
        "colab_type": "text",
        "id": "KtF4GrDDD_Fw"
      },
      "source": [
        "## **5 - Hill Climbing**\n",
        "\n",
        "\n",
        "Hill climbing uses a heuristic to define which is the best node at a given state to expand. In our approach, we use the Euclidian distance and select the node with the smaller value.\n",
        "\n",
        "**Completeness:** No\n",
        "\n",
        "**Optimization:** No\n",
        "\n",
        "**Time complexity:** $ O(b^d)$\n",
        "\n",
        "**Memory complexity:** uses few memory\n",
        "\n",
        "Below we provide the implementation of the local beam search in Python."
      ]
    },
    {
      "cell_type": "code",
      "metadata": {
        "colab_type": "code",
        "id": "GkpUb0qCEA1p",
        "colab": {}
      },
      "source": [
        "def argmin_random_tie(seq, key=identity):\n",
        "    return min(shuffled(seq), key=key)\n",
        "\n",
        "def shuffled(iterable):\n",
        "    items = list(iterable)\n",
        "    random.shuffle(items)\n",
        "    return items\n",
        "\n",
        "def hill_climbing(problem):\n",
        "    current = Node(problem.initial)\n",
        "    while True:\n",
        "        neighbors = current.expand(problem)\n",
        "        if not neighbors:\n",
        "            break\n",
        "        neighbor = argmin_random_tie(neighbors,\n",
        "                                     key=lambda node: problem.value(node.state))\n",
        "        current = neighbor\n",
        "        if current.state.solved():\n",
        "            break \n",
        "    return current"
      ],
      "execution_count": 0,
      "outputs": []
    },
    {
      "cell_type": "markdown",
      "metadata": {
        "colab_type": "text",
        "id": "pljOnM_HbMI5"
      },
      "source": [
        "# **IV - Results**"
      ]
    },
    {
      "cell_type": "markdown",
      "metadata": {
        "id": "7koszinATrj-",
        "colab_type": "text"
      },
      "source": [
        "### **Simulation Results and Discussion**\n",
        "\n",
        "The figures presented in this section show the mean values derived from 10 independent replications and a confidence intervals of 95%.\n",
        "We compared the strategies in terms of:\n",
        "- Simulated time\n",
        "- Number of generated nodes\n",
        "- Number of points won\n",
        "- Number of points left\n",
        "- Number of actions from the initial position to the goal\n",
        "- Number of expanded nodes\n",
        "- Number of nodes generated nodes per second\n",
        "- Number of expanded nodes per second\n",
        "\n",
        "These metrics were observed into dense and non-dense scenarios. For the sake of clearness, the confidence intervals are omitted, and we analyze only the scenarios with points. The rest of the results (with 0 point scenarios) have similar values.\n"
      ]
    },
    {
      "cell_type": "markdown",
      "metadata": {
        "id": "FE0Y7JbSTrj-",
        "colab_type": "text"
      },
      "source": [
        "#### **Simulated time**\n",
        "The simulation results show that the computing time is lower for the DFS and Hill because those search methods aim to reach the depth node in the queue. Those mechanisms produce  slightly  lower  delay  values  in non-dense scenarios. They provide a computing time two or three orders of magnitude lower than the others strategies. Moreover, the A*1 search method produces similar values to the DFS and Hill searches in high empty maps (scenarios 11 and 12) because this method aims to find the goal following the Euclidean distance, which is the shortest path. This means that this strategy is similar to DFS in this type of maps.\n",
        "\n",
        "In general, the time increases exponentially with the size of the map. We can find the reason by looking at the graph measuring the nodes per second, and expanded nodes per second. As the map increases in size, those metrics decrease dramatically. The difference between the different search methods  according  to the complexity, type and number of operation(s), every time new nodes are expanded, get even more obvious with increasing map size.\n",
        "\n",
        "<table><tr><td><img src='https://raw.githubusercontent.com/lucaslzl/search_ia_p1/master/plots/with_points/dense_times.png'></td><td><img src='https://raw.githubusercontent.com/lucaslzl/search_ia_p1/master/plots/with_points/nodense_times.png'></td></tr></table>\n"
      ]
    },
    {
      "cell_type": "markdown",
      "metadata": {
        "id": "MgBieVlFTrj_",
        "colab_type": "text"
      },
      "source": [
        "The local beam search has a relatively average execution time compared to the other methods. In the case of non-dense maps (empty maps), the number of successors increases exponentially (to the order of 3 to the n, in the middle of the maze, far from the walls), when we increase the map size (map size is the same for map 4 and 10, only the distribution of points is different). For the map 11 and 12, the time increased much dramatically. In fact, for those two maps, an iteration over the width k was necessary to find a solution (k=50 for map 11 and k=285 for map12). Incrementing the value of k by 5 on each iteration, from an initial value of 10, until reaching an optimal value of k=50 for map 11 and k=285 for map 12, slowed down the local beam search method. We can note here that it is difficult to choose a \"good\" value for k, map 11 and 12 have the same size, only their structure is different, but the difference in value of the search width is of the order of almost 6.  \n",
        "\n",
        "On the other hand, BFS produce a computation time of 4 second on average for non-dense and dense scenarios. This occurs because the BFS prioritizes the length of the map and not the depth. For most maps, the starting position and the goal position are in opposite side; thus BFS processes all possible paths until reaching the goal.\n"
      ]
    },
    {
      "cell_type": "markdown",
      "metadata": {
        "colab_type": "text",
        "id": "PyyoSj2dbvuM"
      },
      "source": [
        "### **Number of actions**\n",
        "\n",
        "The Simulation results show that the depth-first search method produces a higher number of actions than the other strategies, for both dense and non-dense scenarios. Those values occur because the search expands the shallowest node, which requires more steps to reach the goal position and also requires a higher computing time, as shown previously.\n",
        "\n",
        "We notice that the local beam search finds a path that is systematically longer than the others found by other methods, except for the depth-first search. Also, the path to the goal, found by the local beam search, increases with the size of the map. Those results confirm our initial expectations. The local beam search is mainly concerned in maximizing its objective function (collecting the maximum number of points).  Moreover, the other strategies produce similar values.\n",
        "\n",
        "<table><tr><td><img src='https://raw.githubusercontent.com/lucaslzl/search_ia_p1/master/plots/with_points/dense_acti.png'></td><td><img src='https://raw.githubusercontent.com/lucaslzl/search_ia_p1/master/plots/with_points/nodense_acti.png'></td></tr></table>\n",
        "\n"
      ]
    },
    {
      "cell_type": "markdown",
      "metadata": {
        "id": "XjqZ_jURTrkA",
        "colab_type": "text"
      },
      "source": [
        "### **Number of generated nodes**\n",
        "\n",
        "This metric comprehends the amount of generated nodes. Generated nodes are nodes that were checked by the strategy and loaded to memory. Thus, the number of nodes measures the total memory used to perform each search method by counting the total number of nodes kept during the search to find a solution.\n",
        "\n",
        "The Simulation results show that the Hill and BFS search methods produce a lower number of nodes generated in both scenarios.  This occurs because Hill expands the node only to find a better solution.  If the change produces a new change to produce a better solution, another incremental change is made to the new solution, repeating this process until no improvement can be found, which considerably reduces the memory size. Moreover, the DFS produces low memory consumption due to its expansion of nodes in depth. On the other hand, the LBS  selects k best successors every time new nodes are expanded, the memory required by this search is bounded by the width k. As a consequence, for both dense and empty maps, the local beam search required an average memory size compared to the other methods for finding a solution. The only exception to that is for map 11 and 12. Much bigger values of k (50 and 285 respectively), and as a consequence a much higher memory, were necessary to find a solution. Since those maps are empty, the number of new successors, when new nodes are expanded, from which to select a set of k best successors increases exponentially to the order of 3 to the N inside the map. For values of k below 50 and 285, for the maps 11 and 12, the lists of nodes selected are trapped in the bottom half of the map.\n",
        "\n",
        "<table><tr><td><img src='https://raw.githubusercontent.com/lucaslzl/search_ia_p1/master/plots/with_points/dense_nodes.png'></td><td><img src='https://raw.githubusercontent.com/lucaslzl/search_ia_p1/master/plots/with_points/nodense_nodes.png'></td></tr></table>\n"
      ]
    },
    {
      "cell_type": "markdown",
      "metadata": {
        "id": "jE_p3k2JTrkA",
        "colab_type": "text"
      },
      "source": [
        "### **Number of points win**\n",
        "\n",
        "As mentioned before, one of the objectives is to collect as many points as possible on the map. Therefore, the graphics below present the results of this metric. It describes the average number of points collected by each search method over increasing sizes of the map. As expected, the local beam search is very efficient at collecting points on average (5.8 points collected). It surpasses the other search methods on this metric, for maps that are relatively dense in terms of walls inside it. However, as the map gets bigger, the average number of points collected decreases. In fact, with increasing size, while keeping the total number of points available to collect constant (10 points), the number of nodes expanded gets much bigger, it becomes less probable to find points inside the expanded nodes. Especially if the points are dispersed over the map. In non-dense scenarios, the DFS presents the best results, with an average of 5.0 points collected. Besides, in both approaches, the Hill strategy presents the worst result, averaging 0.2 points collected\n",
        "\n",
        "\n",
        "<table><tr><td><img src='https://raw.githubusercontent.com/lucaslzl/search_ia_p1/master/plots/with_points/dense_pont.png'></td><td><img src='https://raw.githubusercontent.com/lucaslzl/search_ia_p1/master/plots/with_points/nodense_pont.png'></td></tr></table>\n",
        "\n",
        "The simulation results show that the points left metric (not collected in the path) experiences opposite behavior to the points won metric (figures not shows in this report). In addition, the DFS and LBS strategies present the best result again in dense and non-dense scenarios."
      ]
    },
    {
      "cell_type": "markdown",
      "metadata": {
        "id": "-UajXOgvTrkB",
        "colab_type": "text"
      },
      "source": [
        "### **Number of expanded nodes**\n",
        "\n",
        "The simulation results show that the BFS and Hill search methods expand on average  30 and 10  nodes, non-dense scenarios, respectively. These values are two or three order of magnitudes lower than the other strategies, such as BFS, which expand on average 30000 nodes.  In the worst case scenario (map 2), BFS expanded 100000 nodes.\n",
        "\n",
        "<table><tr><td><img src='https://raw.githubusercontent.com/lucaslzl/search_ia_p1/master/plots/with_points/dense_expa.png'></td><td><img src='https://raw.githubusercontent.com/lucaslzl/search_ia_p1/master/plots/with_points/nodense_expa.png'></td></tr></table>\n",
        "\n",
        "However, this expansion node metric is subjective to the performance evaluation because some methods expand the nodes faster. For example, A*2 expands the same number of nodes as BFS  in the scenario; however, the time to expand the nodes is lower (being  800 per second and 5000 nodes) for A*2 and BFS respectively, as shown in the following figures.\n",
        "\n",
        "<table><tr><td><img src='https://raw.githubusercontent.com/lucaslzl/search_ia_p1/master/plots/with_points/dense_expanded_per_sec.png'></td><td><img src='https://raw.githubusercontent.com/lucaslzl/search_ia_p1/master/plots/with_points/nodense_expanded_per_sec.png'></td></tr></table>"
      ]
    },
    {
      "cell_type": "markdown",
      "metadata": {
        "id": "WCN3gRUaTrkB",
        "colab_type": "text"
      },
      "source": [
        "### **Maps with no points:**\n",
        "\n",
        "We won't discuss the results of the local beam search on maps with no points to collect. Given the objective of this method and the way it is implemented, discussing its results with the objective function set to 0 over the map makes no sense.\n"
      ]
    },
    {
      "cell_type": "markdown",
      "metadata": {
        "colab_type": "text",
        "id": "9LVC847sbgdq"
      },
      "source": [
        "# **V - Conclusion**"
      ]
    },
    {
      "cell_type": "markdown",
      "metadata": {
        "colab_type": "text",
        "id": "yONZQNhdbxNU"
      },
      "source": [
        "In most cases, the Hill search method finds a solution with the lowest cost in terms of time and number of actions to reach the goal from the starting position. However, for non-dense maps, the BFS produces similar values to the Hill search method. Moreover, LBS finds a solution only if we set a large value of the width k. This means that the search wasted time finding a solution with previously lower values of k. It is possible to find \"rules\" to select an appropriate width range for \"k\". However, this wouldn't have been an \"elegant\" implementation for this algorithm and more importantly we don't have any information about the map initially. We preferred, in this problem, to adopt the most simpler option, incrementing the value of k until the local beam search finds a solution.\n",
        "\n",
        "Finally, for more complex problems in general, when adopting LBS, we could keep in memory the number of possibilities at each time we expand new successors. If we don't find a solution the first time we run the algorithm, that memorized number could help us select an adequate value of the next width to increase the probability of finding a solution."
      ]
    },
    {
      "cell_type": "markdown",
      "metadata": {
        "colab_type": "text",
        "id": "Hc-yvZ4qbkgh"
      },
      "source": [
        "# **VII - Sources**"
      ]
    },
    {
      "cell_type": "markdown",
      "metadata": {
        "colab_type": "text",
        "id": "BNaIIOCybT5w"
      },
      "source": [
        "[1] https://en.wikipedia.org/wiki/Pac-Man\n",
        "\n",
        "[2] https://github.com/aimacode/aima-python/blob/master/search.ipynb"
      ]
    },
    {
      "cell_type": "markdown",
      "metadata": {
        "colab_type": "text",
        "id": "4ZoBou07ccjB"
      },
      "source": [
        "# **Appendix**"
      ]
    },
    {
      "cell_type": "markdown",
      "metadata": {
        "colab_type": "text",
        "id": "DKmvicAwi-go"
      },
      "source": [
        "## **Link to the Github repository**\n",
        "\n",
        "[https://github.com/lucaslzl/search_ia_p1](https://github.com/lucaslzl/search_ia_p1)"
      ]
    },
    {
      "cell_type": "markdown",
      "metadata": {
        "colab_type": "text",
        "id": "WLbCPh82cinS"
      },
      "source": [
        "## **Link to the video**\n",
        "\n",
        "https://www.youtube.com/watch?v=ffuthDRn6lE&feature=youtu.be"
      ]
    },
    {
      "cell_type": "markdown",
      "metadata": {
        "colab_type": "text",
        "id": "j-5pz-oTgjGY"
      },
      "source": [
        "## **How to execute the files**\n",
        "\n",
        "There are two ways to execute the experiments:\n",
        "\n",
        "**1. Execute the python code called \"main.py\" and pass the parameters**\n",
        "\n",
        "The code considers the parameters to execute each strategy and map. It is possible to change how many times it executes and to print or not the results.\n",
        "\n",
        "Run \"python3 main.py --(strategy flag)\" to execute.\n",
        "\n",
        "For instance, \"python main.py --bfs --maps=./maps/map1.txt,./maps/map2.txt\" executes both files with bfs.\n",
        "\n",
        "It is worth to point out that you may run \"python main.py --help\" to visualize all the possible flags and parameters.\n",
        "\n",
        "To see the state after applying each action add the tag \"--print\"\n",
        "\n",
        "**2. Execute the shellcode called \"execute.sh\"**\n",
        "\n",
        "The code executes every strategy in each map 10 times and saves the results. Besides, a code called \"compute.py\" read all outputs and calculate distinct metrics.\n",
        "\n",
        "run \"./execute.sh\" and wait until it is done.\n",
        "\n",
        "All results are saved in the results folder as the \"computer.py\" code.\n",
        "\n",
        "Good idea to use virtual env. Tested on Python 3.8"
      ]
    }
  ]
}
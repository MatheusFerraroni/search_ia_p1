{
 "cells": [
  {
   "cell_type": "markdown",
   "metadata": {},
   "source": [
    "## Strategies\n",
    "The strategies implemented will be presented and discussed according to their key idea, implementation purposes and performance measures.\n",
    "\n",
    "For the performance measures we consider $b$ the average number of sucessors and $d$ shallowest depth of solution."
   ]
  },
  {
   "cell_type": "markdown",
   "metadata": {},
   "source": [
    "### Breadth-first Search\n",
    "\n",
    "This strategy has the capability to search in a graph-like (graph or tree) data structure. The distance from a node to the starting node is used to explore the data. The key idea is that it may not explore a node of a farther distance without exploring every node from the same distance. A queue structure is usually utilized as the First In First Out (FIFO) rule is followed.\n",
    "\n",
    "**Performance measures:**\n",
    "\n",
    "- Completeness\n",
    "\n",
    "Yes, this strategy is classified as complete as it finds the goal if it exists.\n",
    "\n",
    "- Optimization\n",
    "\n",
    "Yes, only if all the paths have the same cost.\n",
    "\n",
    "- Time complexity\n",
    "\n",
    "$ O(b^d) $\n",
    "\n",
    "- Memory complexity\n",
    "\n",
    "$ O(b^d) $\n",
    "\n",
    "Below we provide the implementation of the local beam search in Python."
   ]
  },
  {
   "cell_type": "code",
   "execution_count": null,
   "metadata": {},
   "outputs": [],
   "source": [
    "def BreadthFirst(problem):\n",
    "\n",
    "    checkeds = []\n",
    "    frontier = deque([Node(problem.initial)])\n",
    "\n",
    "    while frontier:\n",
    "\n",
    "        node = frontier.popleft()\n",
    "\n",
    "        if problem.goal_test(node.state):\n",
    "            return node\n",
    "\n",
    "        frontier.extend(node.expand(problem))\n",
    "\n",
    "    return None"
   ]
  },
  {
   "cell_type": "markdown",
   "metadata": {},
   "source": [
    "### Depth-first Search\n",
    "\n",
    "This strategy has the capability to search in a graph-like data structure. The distance from a node to the starting node is used to explore the data. The key idea is that it will explore a node with the farther distance without exploring any other node from the same distance if possible. A stack structure is usually utilized as the Last In First Out (LIFO) rule is followed. \n",
    "\n",
    "**Performance measures:**\n",
    "\n",
    "- Completeness\n",
    "\n",
    "No, it may create an infinite loop if a branch has no end.\n",
    "\n",
    "- Optimization\n",
    "\n",
    "No, there is no guarantee that will find the best solution even if all paths have the same cost.\n",
    "\n",
    "- Time complexity\n",
    "\n",
    "$ O(b^d) $\n",
    "\n",
    "- Memory complexity\n",
    "\n",
    "$ O(bd) $\n",
    "\n",
    "Below we provide the implementation of the local beam search in Python."
   ]
  },
  {
   "cell_type": "code",
   "execution_count": null,
   "metadata": {},
   "outputs": [],
   "source": [
    "def DepthFirst(problem):\n",
    "\n",
    "    frontier = [Node(problem.initial)]\n",
    "\n",
    "    while frontier:\n",
    "\n",
    "        node = frontier.pop()\n",
    "\n",
    "        if problem.goal_test(node.state):\n",
    "            return node\n",
    "\n",
    "        frontier.extend(node.expand(problem))\n",
    "\n",
    "    return None"
   ]
  },
  {
   "cell_type": "markdown",
   "metadata": {},
   "source": [
    "## How to execute\n",
    "\n",
    "There are two ways to execute the experiments:\n",
    "\n",
    "**1. Execute the python code called \"*main.py*\" and pass the parameters**\n",
    "\n",
    "The code considers the parameters to executed each strategy and map. It is possible change how many times it executes and to print or not the results. \n",
    "\n",
    "Run \"*python3 main.py --(strategy flag)*\" to execute.\n",
    "\n",
    "For instance, \"*python main.py --bfs --maps=./maps/map1.txt,./maps/map2.txt*\" executes both files with bfs.\n",
    "\n",
    "It is worth to point out that you may run \"*python main.py --help*\" to visualize all the possible flags and parameters.\n",
    "\n",
    "To see the state after aplying each action add the tag \"*--print*\"\n",
    "\n",
    "\n",
    "**2. Execute the shell code called \"*execute.sh*\"**\n",
    "\n",
    "The code executes every strategy in each map 10 times and save the results. In addition, a code called \"*compute.py*\" read all outputs and calculate distinct metrics.\n",
    "\n",
    "run \"*./execute.sh*\" and wait until it is done.\n",
    "\n",
    "All results are saved in the results folder as the \"*computer.py*\" code.\n",
    "\n",
    "\n",
    "**Good idea to use virtualenv. Tested on python 3.8**"
   ]
  }
 ],
 "metadata": {
  "kernelspec": {
   "display_name": "Python 3",
   "language": "python",
   "name": "python3"
  },
  "language_info": {
   "codemirror_mode": {
    "name": "ipython",
    "version": 3
   },
   "file_extension": ".py",
   "mimetype": "text/x-python",
   "name": "python",
   "nbconvert_exporter": "python",
   "pygments_lexer": "ipython3",
   "version": "3.7.4"
  }
 },
 "nbformat": 4,
 "nbformat_minor": 2
}
